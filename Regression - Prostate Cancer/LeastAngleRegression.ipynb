{
 "cells": [
  {
   "cell_type": "code",
   "execution_count": 4,
   "id": "3391b28b",
   "metadata": {},
   "outputs": [],
   "source": [
    "import pandas as pd\n",
    "import math\n",
    "import numpy as np\n",
    "import matplotlib.pyplot as plt"
   ]
  },
  {
   "cell_type": "code",
   "execution_count": 5,
   "id": "9e0b9ebb",
   "metadata": {},
   "outputs": [],
   "source": [
    "df = pd.read_csv('ProstateCancer.csv')\n",
    "\n",
    "#Drop the unrelated columns\n",
    "df = df.drop(columns=['Unnamed: 0.1','Unnamed: 0'])\n",
    "\n",
    "#Seperate the training and testing data\n",
    "train_mask = df.pop('train')\n",
    "\n",
    "#center responses\n",
    "y = df.pop('lpsa')\n",
    "y = y-y.mean()\n",
    "#standardize data\n",
    "df = (df- df.mean())/df.std()\n",
    "x_train = df[train_mask == 'T']\n",
    "y_train = y[train_mask == 'T']\n",
    "x_train = x_train.values\n",
    "y_train = y_train.values"
   ]
  },
  {
   "cell_type": "code",
   "execution_count": 4,
   "id": "3c029b71",
   "metadata": {},
   "outputs": [],
   "source": [
    "\n",
    "n,p = x_train.shape"
   ]
  },
  {
   "cell_type": "code",
   "execution_count": 11,
   "id": "b9b07fcf",
   "metadata": {},
   "outputs": [
    {
     "name": "stdout",
     "output_type": "stream",
     "text": [
      "[ True False False False False False False False]\n",
      "[ True  True False False False False False False]\n",
      "[ True  True False False  True False False False]\n",
      "[ True  True False False  True False False  True]\n",
      "[ True  True False  True  True False False  True]\n",
      "[ True  True  True  True  True False False  True]\n",
      "[ True  True  True  True  True  True False  True]\n",
      "[ True  True  True  True  True  True  True  True]\n"
     ]
    }
   ],
   "source": [
    "mu = 0\n",
    "#set all coefs to zero\n",
    "theta = np.zeros(p)\n",
    "for _ in range(p):\n",
    "    #get the highest correlation\n",
    "    corr = x_train.T@ (y_train - mu)\n",
    "    corr_abs = abs(corr)\n",
    "    corr_max = max(corr_abs)\n",
    "    #get the active predictors\n",
    "    active = np.isclose(corr_abs, corr_max)\n",
    "    print(active)\n",
    "    signs = np.where(corr[active]>0, 1, -1)\n",
    "    \n",
    "\n",
    "      \n",
    "    \n",
    "    \n",
    "    x_active = signs * x_train[:,active]\n",
    "    \n",
    "    product = x_active.T @ x_active\n",
    "    x_inv = np.linalg.inv(product)\n",
    "    \n",
    "    \n",
    "    A = x_inv.sum() ** (-0.5)\n",
    "\n",
    "    w = A * x_inv.sum(axis = 1)\n",
    "    \n",
    "    u = x_active @ w\n",
    "    \n",
    "    z = corr_max / A\n",
    "    \n",
    "    if not active.all():\n",
    "        a = x_train.T@u\n",
    "        \n",
    "        invert = np.invert(active)\n",
    "        \n",
    "        cor_inverted = corr[invert]\n",
    "        \n",
    "        a_inverted = a[invert]\n",
    "        \n",
    "        next_predictors = np.concatenate([(corr_max - cor_inverted) / (A - a_inverted),\n",
    "                                     (corr_max + cor_inverted) / (A + a_inverted)])\n",
    "        z = next_predictors[next_predictors >= 0].min()\n",
    "    \n",
    "    \n",
    "    mu += z * u\n",
    "    \n",
    "    \n",
    "    theta[active] += z * signs"
   ]
  },
  {
   "cell_type": "code",
   "execution_count": 12,
   "id": "a1ef107b",
   "metadata": {},
   "outputs": [
    {
     "data": {
      "text/plain": [
       "array([10.08773104,  6.90604419, -1.97106193,  3.78566139,  5.28192838,\n",
       "       -1.63588749, -0.17466915,  3.98160547])"
      ]
     },
     "execution_count": 12,
     "metadata": {},
     "output_type": "execute_result"
    }
   ],
   "source": [
    "theta"
   ]
  },
  {
   "cell_type": "code",
   "execution_count": 13,
   "id": "a29ecaf2",
   "metadata": {},
   "outputs": [],
   "source": [
    "y_test = y[train_mask=='F']\n",
    "x_test = df[train_mask=='F']"
   ]
  },
  {
   "cell_type": "code",
   "execution_count": 19,
   "id": "6cf9c4cf",
   "metadata": {},
   "outputs": [
    {
     "data": {
      "text/plain": [
       "338.26428015720535"
      ]
     },
     "execution_count": 19,
     "metadata": {},
     "output_type": "execute_result"
    }
   ],
   "source": [
    "np.mean((y_train-x_train@theta)**2)"
   ]
  },
  {
   "cell_type": "code",
   "execution_count": 1,
   "id": "2794ce40",
   "metadata": {},
   "outputs": [],
   "source": [
    "from sklearn import linear_model"
   ]
  },
  {
   "cell_type": "code",
   "execution_count": 9,
   "id": "98692699",
   "metadata": {},
   "outputs": [],
   "source": [
    "reg = linear_model.Lars(n_nonzero_coefs=8,normalize=False)"
   ]
  },
  {
   "cell_type": "code",
   "execution_count": 10,
   "id": "43af0d0d",
   "metadata": {},
   "outputs": [
    {
     "data": {
      "text/plain": [
       "Lars(copy_X=True, eps=2.220446049250313e-16, fit_intercept=True, fit_path=True,\n",
       "     n_nonzero_coefs=8, normalize=False, precompute='auto', verbose=False)"
      ]
     },
     "execution_count": 10,
     "metadata": {},
     "output_type": "execute_result"
    }
   ],
   "source": [
    "reg.fit(x_train,y_train)"
   ]
  },
  {
   "cell_type": "code",
   "execution_count": 14,
   "id": "120725e7",
   "metadata": {},
   "outputs": [],
   "source": [
    "y_test = y[train_mask=='F']\n",
    "x_test = df[train_mask=='F']"
   ]
  },
  {
   "cell_type": "code",
   "execution_count": 16,
   "id": "ddc877ee",
   "metadata": {},
   "outputs": [
    {
     "data": {
      "text/plain": [
       "0.5212740055076"
      ]
     },
     "execution_count": 16,
     "metadata": {},
     "output_type": "execute_result"
    }
   ],
   "source": [
    "np.mean((y_test-reg.predict(x_test))**2)"
   ]
  }
 ],
 "metadata": {
  "kernelspec": {
   "display_name": "Python 3 (ipykernel)",
   "language": "python",
   "name": "python3"
  },
  "language_info": {
   "codemirror_mode": {
    "name": "ipython",
    "version": 3
   },
   "file_extension": ".py",
   "mimetype": "text/x-python",
   "name": "python",
   "nbconvert_exporter": "python",
   "pygments_lexer": "ipython3",
   "version": "3.8.10"
  }
 },
 "nbformat": 4,
 "nbformat_minor": 5
}
