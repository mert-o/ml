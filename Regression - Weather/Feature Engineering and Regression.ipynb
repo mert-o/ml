{
 "cells": [
  {
   "cell_type": "code",
   "execution_count": 766,
   "id": "a0f9764f",
   "metadata": {},
   "outputs": [],
   "source": [
    "import numpy as np\n",
    "import pandas as pd\n",
    "import seaborn as sns\n",
    "import matplotlib.pyplot as plt\n",
    "\n",
    "%matplotlib inline\n",
    "pd.pandas.set_option('display.max_columns',None)"
   ]
  },
  {
   "cell_type": "code",
   "execution_count": 767,
   "id": "5f096180",
   "metadata": {
    "scrolled": true
   },
   "outputs": [
    {
     "data": {
      "text/html": [
       "<div>\n",
       "<style scoped>\n",
       "    .dataframe tbody tr th:only-of-type {\n",
       "        vertical-align: middle;\n",
       "    }\n",
       "\n",
       "    .dataframe tbody tr th {\n",
       "        vertical-align: top;\n",
       "    }\n",
       "\n",
       "    .dataframe thead th {\n",
       "        text-align: right;\n",
       "    }\n",
       "</style>\n",
       "<table border=\"1\" class=\"dataframe\">\n",
       "  <thead>\n",
       "    <tr style=\"text-align: right;\">\n",
       "      <th></th>\n",
       "      <th>Formatted Date</th>\n",
       "      <th>Summary</th>\n",
       "      <th>Precip Type</th>\n",
       "      <th>Temperature (C)</th>\n",
       "      <th>Apparent Temperature (C)</th>\n",
       "      <th>Humidity</th>\n",
       "      <th>Wind Speed (km/h)</th>\n",
       "      <th>Wind Bearing (degrees)</th>\n",
       "      <th>Visibility (km)</th>\n",
       "      <th>Loud Cover</th>\n",
       "      <th>Pressure (millibars)</th>\n",
       "      <th>Daily Summary</th>\n",
       "    </tr>\n",
       "  </thead>\n",
       "  <tbody>\n",
       "    <tr>\n",
       "      <th>0</th>\n",
       "      <td>2006-04-01 00:00:00.000 +0200</td>\n",
       "      <td>Partly Cloudy</td>\n",
       "      <td>rain</td>\n",
       "      <td>9.472222</td>\n",
       "      <td>7.388889</td>\n",
       "      <td>0.89</td>\n",
       "      <td>14.1197</td>\n",
       "      <td>251.0</td>\n",
       "      <td>15.8263</td>\n",
       "      <td>0.0</td>\n",
       "      <td>1015.13</td>\n",
       "      <td>Partly cloudy throughout the day.</td>\n",
       "    </tr>\n",
       "    <tr>\n",
       "      <th>1</th>\n",
       "      <td>2006-04-01 01:00:00.000 +0200</td>\n",
       "      <td>Partly Cloudy</td>\n",
       "      <td>rain</td>\n",
       "      <td>9.355556</td>\n",
       "      <td>7.227778</td>\n",
       "      <td>0.86</td>\n",
       "      <td>14.2646</td>\n",
       "      <td>259.0</td>\n",
       "      <td>15.8263</td>\n",
       "      <td>0.0</td>\n",
       "      <td>1015.63</td>\n",
       "      <td>Partly cloudy throughout the day.</td>\n",
       "    </tr>\n",
       "    <tr>\n",
       "      <th>2</th>\n",
       "      <td>2006-04-01 02:00:00.000 +0200</td>\n",
       "      <td>Mostly Cloudy</td>\n",
       "      <td>rain</td>\n",
       "      <td>9.377778</td>\n",
       "      <td>9.377778</td>\n",
       "      <td>0.89</td>\n",
       "      <td>3.9284</td>\n",
       "      <td>204.0</td>\n",
       "      <td>14.9569</td>\n",
       "      <td>0.0</td>\n",
       "      <td>1015.94</td>\n",
       "      <td>Partly cloudy throughout the day.</td>\n",
       "    </tr>\n",
       "    <tr>\n",
       "      <th>3</th>\n",
       "      <td>2006-04-01 03:00:00.000 +0200</td>\n",
       "      <td>Partly Cloudy</td>\n",
       "      <td>rain</td>\n",
       "      <td>8.288889</td>\n",
       "      <td>5.944444</td>\n",
       "      <td>0.83</td>\n",
       "      <td>14.1036</td>\n",
       "      <td>269.0</td>\n",
       "      <td>15.8263</td>\n",
       "      <td>0.0</td>\n",
       "      <td>1016.41</td>\n",
       "      <td>Partly cloudy throughout the day.</td>\n",
       "    </tr>\n",
       "    <tr>\n",
       "      <th>4</th>\n",
       "      <td>2006-04-01 04:00:00.000 +0200</td>\n",
       "      <td>Mostly Cloudy</td>\n",
       "      <td>rain</td>\n",
       "      <td>8.755556</td>\n",
       "      <td>6.977778</td>\n",
       "      <td>0.83</td>\n",
       "      <td>11.0446</td>\n",
       "      <td>259.0</td>\n",
       "      <td>15.8263</td>\n",
       "      <td>0.0</td>\n",
       "      <td>1016.51</td>\n",
       "      <td>Partly cloudy throughout the day.</td>\n",
       "    </tr>\n",
       "  </tbody>\n",
       "</table>\n",
       "</div>"
      ],
      "text/plain": [
       "                  Formatted Date        Summary Precip Type  Temperature (C)  \\\n",
       "0  2006-04-01 00:00:00.000 +0200  Partly Cloudy        rain         9.472222   \n",
       "1  2006-04-01 01:00:00.000 +0200  Partly Cloudy        rain         9.355556   \n",
       "2  2006-04-01 02:00:00.000 +0200  Mostly Cloudy        rain         9.377778   \n",
       "3  2006-04-01 03:00:00.000 +0200  Partly Cloudy        rain         8.288889   \n",
       "4  2006-04-01 04:00:00.000 +0200  Mostly Cloudy        rain         8.755556   \n",
       "\n",
       "   Apparent Temperature (C)  Humidity  Wind Speed (km/h)  \\\n",
       "0                  7.388889      0.89            14.1197   \n",
       "1                  7.227778      0.86            14.2646   \n",
       "2                  9.377778      0.89             3.9284   \n",
       "3                  5.944444      0.83            14.1036   \n",
       "4                  6.977778      0.83            11.0446   \n",
       "\n",
       "   Wind Bearing (degrees)  Visibility (km)  Loud Cover  Pressure (millibars)  \\\n",
       "0                   251.0          15.8263         0.0               1015.13   \n",
       "1                   259.0          15.8263         0.0               1015.63   \n",
       "2                   204.0          14.9569         0.0               1015.94   \n",
       "3                   269.0          15.8263         0.0               1016.41   \n",
       "4                   259.0          15.8263         0.0               1016.51   \n",
       "\n",
       "                       Daily Summary  \n",
       "0  Partly cloudy throughout the day.  \n",
       "1  Partly cloudy throughout the day.  \n",
       "2  Partly cloudy throughout the day.  \n",
       "3  Partly cloudy throughout the day.  \n",
       "4  Partly cloudy throughout the day.  "
      ]
     },
     "execution_count": 767,
     "metadata": {},
     "output_type": "execute_result"
    }
   ],
   "source": [
    "df = pd.read_csv('weatherHistory.csv')\n",
    "df.head()"
   ]
  },
  {
   "cell_type": "markdown",
   "id": "c00b2716",
   "metadata": {},
   "source": [
    "**Handling missing values**"
   ]
  },
  {
   "cell_type": "code",
   "execution_count": 768,
   "id": "72b269a4",
   "metadata": {},
   "outputs": [
    {
     "data": {
      "text/plain": [
       "Formatted Date                0\n",
       "Summary                       0\n",
       "Precip Type                 517\n",
       "Temperature (C)               0\n",
       "Apparent Temperature (C)      0\n",
       "Humidity                      0\n",
       "Wind Speed (km/h)             0\n",
       "Wind Bearing (degrees)        0\n",
       "Visibility (km)               0\n",
       "Loud Cover                    0\n",
       "Pressure (millibars)          0\n",
       "Daily Summary                 0\n",
       "dtype: int64"
      ]
     },
     "execution_count": 768,
     "metadata": {},
     "output_type": "execute_result"
    }
   ],
   "source": [
    "df.isna().sum()"
   ]
  },
  {
   "cell_type": "code",
   "execution_count": 769,
   "id": "08384374",
   "metadata": {},
   "outputs": [
    {
     "data": {
      "text/plain": [
       "array(['rain', 'snow', nan], dtype=object)"
      ]
     },
     "execution_count": 769,
     "metadata": {},
     "output_type": "execute_result"
    }
   ],
   "source": [
    "df['Precip Type'].unique()"
   ]
  },
  {
   "cell_type": "code",
   "execution_count": 770,
   "id": "5f578936",
   "metadata": {},
   "outputs": [],
   "source": [
    "foo = df['Precip Type'].copy()\n",
    "foo.fillna('Unknown',inplace=True)"
   ]
  },
  {
   "cell_type": "code",
   "execution_count": 771,
   "id": "1f63d93a",
   "metadata": {},
   "outputs": [
    {
     "data": {
      "text/plain": [
       "<AxesSubplot:xlabel='Precip Type', ylabel='count'>"
      ]
     },
     "execution_count": 771,
     "metadata": {},
     "output_type": "execute_result"
    },
    {
     "data": {
      "image/png": "[encoded data removed]",
      "text/plain": [
       "<Figure size 432x288 with 1 Axes>"
      ]
     },
     "metadata": {
      "needs_background": "light"
     },
     "output_type": "display_data"
    }
   ],
   "source": [
    "sns.countplot(x=foo)"
   ]
  },
  {
   "cell_type": "code",
   "execution_count": 772,
   "id": "a8f0af90",
   "metadata": {},
   "outputs": [
    {
     "data": {
      "text/plain": [
       "rain       85224\n",
       "snow       10712\n",
       "Unknown      517\n",
       "Name: Precip Type, dtype: int64"
      ]
     },
     "execution_count": 772,
     "metadata": {},
     "output_type": "execute_result"
    }
   ],
   "source": [
    "foo.value_counts()"
   ]
  },
  {
   "cell_type": "code",
   "execution_count": 773,
   "id": "569bfda7",
   "metadata": {},
   "outputs": [],
   "source": [
    "df['Precip Type'] = foo"
   ]
  },
  {
   "cell_type": "code",
   "execution_count": 774,
   "id": "da0ba80d",
   "metadata": {},
   "outputs": [],
   "source": [
    "foo = df[['Precip Type', 'Temperature (C)']]"
   ]
  },
  {
   "cell_type": "code",
   "execution_count": 775,
   "id": "c78008ea",
   "metadata": {},
   "outputs": [],
   "source": [
    "foo = foo.groupby('Precip Type').mean()\n"
   ]
  },
  {
   "cell_type": "code",
   "execution_count": 776,
   "id": "7e2db813",
   "metadata": {
    "scrolled": true
   },
   "outputs": [
    {
     "data": {
      "text/html": [
       "<div>\n",
       "<style scoped>\n",
       "    .dataframe tbody tr th:only-of-type {\n",
       "        vertical-align: middle;\n",
       "    }\n",
       "\n",
       "    .dataframe tbody tr th {\n",
       "        vertical-align: top;\n",
       "    }\n",
       "\n",
       "    .dataframe thead th {\n",
       "        text-align: right;\n",
       "    }\n",
       "</style>\n",
       "<table border=\"1\" class=\"dataframe\">\n",
       "  <thead>\n",
       "    <tr style=\"text-align: right;\">\n",
       "      <th></th>\n",
       "      <th>Temperature (C)</th>\n",
       "    </tr>\n",
       "    <tr>\n",
       "      <th>Precip Type</th>\n",
       "      <th></th>\n",
       "    </tr>\n",
       "  </thead>\n",
       "  <tbody>\n",
       "    <tr>\n",
       "      <th>Unknown</th>\n",
       "      <td>10.393015</td>\n",
       "    </tr>\n",
       "    <tr>\n",
       "      <th>rain</th>\n",
       "      <td>13.852989</td>\n",
       "    </tr>\n",
       "    <tr>\n",
       "      <th>snow</th>\n",
       "      <td>-3.270885</td>\n",
       "    </tr>\n",
       "  </tbody>\n",
       "</table>\n",
       "</div>"
      ],
      "text/plain": [
       "             Temperature (C)\n",
       "Precip Type                 \n",
       "Unknown            10.393015\n",
       "rain               13.852989\n",
       "snow               -3.270885"
      ]
     },
     "execution_count": 776,
     "metadata": {},
     "output_type": "execute_result"
    }
   ],
   "source": [
    "#if the unknown type was no precip at all, the temps should have been higher. \n",
    "#Dropping those rows since they are also very rare\n",
    "foo"
   ]
  },
  {
   "cell_type": "code",
   "execution_count": 777,
   "id": "4a147b26",
   "metadata": {},
   "outputs": [],
   "source": [
    "df = df[df['Precip Type']!='Unknown']"
   ]
  },
  {
   "cell_type": "code",
   "execution_count": 778,
   "id": "1fd085b1",
   "metadata": {},
   "outputs": [
    {
     "data": {
      "text/plain": [
       "array(['rain', 'snow'], dtype=object)"
      ]
     },
     "execution_count": 778,
     "metadata": {},
     "output_type": "execute_result"
    }
   ],
   "source": [
    "df['Precip Type'].unique()"
   ]
  },
  {
   "cell_type": "code",
   "execution_count": 779,
   "id": "8151e42e",
   "metadata": {
    "scrolled": false
   },
   "outputs": [
    {
     "data": {
      "text/plain": [
       "Formatted Date              0\n",
       "Summary                     0\n",
       "Precip Type                 0\n",
       "Temperature (C)             0\n",
       "Apparent Temperature (C)    0\n",
       "Humidity                    0\n",
       "Wind Speed (km/h)           0\n",
       "Wind Bearing (degrees)      0\n",
       "Visibility (km)             0\n",
       "Loud Cover                  0\n",
       "Pressure (millibars)        0\n",
       "Daily Summary               0\n",
       "dtype: int64"
      ]
     },
     "execution_count": 779,
     "metadata": {},
     "output_type": "execute_result"
    }
   ],
   "source": [
    "df.isna().sum()"
   ]
  },
  {
   "cell_type": "markdown",
   "id": "85aceb06",
   "metadata": {},
   "source": [
    "**Handling Summary**"
   ]
  },
  {
   "cell_type": "code",
   "execution_count": 780,
   "id": "481bdc58",
   "metadata": {},
   "outputs": [],
   "source": [
    "foo = df['Summary'].to_numpy()\n",
    "for i in range(foo.shape[0]):\n",
    "    a = foo[i].lower()\n",
    "    if 'mostly cloudy' in a:\n",
    "        foo[i] = 1\n",
    "        \n",
    "    elif 'partly cloudy' in a:\n",
    "        foo[i] = 2\n",
    "    \n",
    "    elif 'overcast' in a:\n",
    "        foo[i] = 3\n",
    "    \n",
    "    elif 'foggy' in a:\n",
    "        foo[i] = 4\n",
    "    \n",
    "    elif 'clear' in a:\n",
    "        foo[i] = 5\n",
    "    else:\n",
    "        foo[i] = 0 \n",
    "df['Summary'] = foo"
   ]
  },
  {
   "cell_type": "code",
   "execution_count": null,
   "id": "4f5a3ad2",
   "metadata": {},
   "outputs": [],
   "source": []
  },
  {
   "cell_type": "code",
   "execution_count": null,
   "id": "649d180a",
   "metadata": {},
   "outputs": [],
   "source": []
  },
  {
   "cell_type": "code",
   "execution_count": 781,
   "id": "95c5b95f",
   "metadata": {
    "scrolled": true
   },
   "outputs": [
    {
     "data": {
      "text/plain": [
       "array([2, 1, 3, 4, 5, 0], dtype=object)"
      ]
     },
     "execution_count": 781,
     "metadata": {},
     "output_type": "execute_result"
    }
   ],
   "source": [
    "df['Summary'].unique()"
   ]
  },
  {
   "cell_type": "code",
   "execution_count": 782,
   "id": "b902892a",
   "metadata": {
    "scrolled": true
   },
   "outputs": [
    {
     "data": {
      "text/plain": [
       "(95936, 12)"
      ]
     },
     "execution_count": 782,
     "metadata": {},
     "output_type": "execute_result"
    }
   ],
   "source": [
    "df.shape"
   ]
  },
  {
   "cell_type": "markdown",
   "id": "dfbf99be",
   "metadata": {},
   "source": [
    "**Handling Dates**"
   ]
  },
  {
   "cell_type": "code",
   "execution_count": 783,
   "id": "bb5b0d05",
   "metadata": {},
   "outputs": [],
   "source": [
    "df['Formatted Date'] = pd.to_datetime(df['Formatted Date'],utc=True)"
   ]
  },
  {
   "cell_type": "code",
   "execution_count": 784,
   "id": "17013be8",
   "metadata": {},
   "outputs": [],
   "source": [
    "# the means of the years are not diverging from each other\n",
    "# I will just drop the rows with 2015\n",
    "df['year'] = df['Formatted Date'].dt.year\n",
    "df = df[df['year']!=2015]"
   ]
  },
  {
   "cell_type": "code",
   "execution_count": 785,
   "id": "e86958f5",
   "metadata": {},
   "outputs": [],
   "source": [
    "df['month'] = df['Formatted Date'].dt.month\n",
    "df['day'] = df['Formatted Date'].dt.day"
   ]
  },
  {
   "cell_type": "code",
   "execution_count": 786,
   "id": "60c5c965",
   "metadata": {},
   "outputs": [],
   "source": [
    "df = df.drop(columns=['Formatted Date','year'])"
   ]
  },
  {
   "cell_type": "code",
   "execution_count": 787,
   "id": "f367dae4",
   "metadata": {},
   "outputs": [],
   "source": [
    "#Daily Summary is not very different than summary so will just drop that column\n",
    "df = df.drop(columns=['Daily Summary'])"
   ]
  },
  {
   "cell_type": "code",
   "execution_count": 788,
   "id": "043a1e0e",
   "metadata": {},
   "outputs": [
    {
     "data": {
      "text/html": [
       "<div>\n",
       "<style scoped>\n",
       "    .dataframe tbody tr th:only-of-type {\n",
       "        vertical-align: middle;\n",
       "    }\n",
       "\n",
       "    .dataframe tbody tr th {\n",
       "        vertical-align: top;\n",
       "    }\n",
       "\n",
       "    .dataframe thead th {\n",
       "        text-align: right;\n",
       "    }\n",
       "</style>\n",
       "<table border=\"1\" class=\"dataframe\">\n",
       "  <thead>\n",
       "    <tr style=\"text-align: right;\">\n",
       "      <th></th>\n",
       "      <th>Summary</th>\n",
       "      <th>Precip Type</th>\n",
       "      <th>Temperature (C)</th>\n",
       "      <th>Apparent Temperature (C)</th>\n",
       "      <th>Humidity</th>\n",
       "      <th>Wind Speed (km/h)</th>\n",
       "      <th>Wind Bearing (degrees)</th>\n",
       "      <th>Visibility (km)</th>\n",
       "      <th>Loud Cover</th>\n",
       "      <th>Pressure (millibars)</th>\n",
       "      <th>month</th>\n",
       "      <th>day</th>\n",
       "    </tr>\n",
       "  </thead>\n",
       "  <tbody>\n",
       "    <tr>\n",
       "      <th>0</th>\n",
       "      <td>2</td>\n",
       "      <td>rain</td>\n",
       "      <td>9.472222</td>\n",
       "      <td>7.388889</td>\n",
       "      <td>0.89</td>\n",
       "      <td>14.1197</td>\n",
       "      <td>251.0</td>\n",
       "      <td>15.8263</td>\n",
       "      <td>0.0</td>\n",
       "      <td>1015.13</td>\n",
       "      <td>3</td>\n",
       "      <td>31</td>\n",
       "    </tr>\n",
       "    <tr>\n",
       "      <th>1</th>\n",
       "      <td>2</td>\n",
       "      <td>rain</td>\n",
       "      <td>9.355556</td>\n",
       "      <td>7.227778</td>\n",
       "      <td>0.86</td>\n",
       "      <td>14.2646</td>\n",
       "      <td>259.0</td>\n",
       "      <td>15.8263</td>\n",
       "      <td>0.0</td>\n",
       "      <td>1015.63</td>\n",
       "      <td>3</td>\n",
       "      <td>31</td>\n",
       "    </tr>\n",
       "    <tr>\n",
       "      <th>2</th>\n",
       "      <td>1</td>\n",
       "      <td>rain</td>\n",
       "      <td>9.377778</td>\n",
       "      <td>9.377778</td>\n",
       "      <td>0.89</td>\n",
       "      <td>3.9284</td>\n",
       "      <td>204.0</td>\n",
       "      <td>14.9569</td>\n",
       "      <td>0.0</td>\n",
       "      <td>1015.94</td>\n",
       "      <td>4</td>\n",
       "      <td>1</td>\n",
       "    </tr>\n",
       "    <tr>\n",
       "      <th>3</th>\n",
       "      <td>2</td>\n",
       "      <td>rain</td>\n",
       "      <td>8.288889</td>\n",
       "      <td>5.944444</td>\n",
       "      <td>0.83</td>\n",
       "      <td>14.1036</td>\n",
       "      <td>269.0</td>\n",
       "      <td>15.8263</td>\n",
       "      <td>0.0</td>\n",
       "      <td>1016.41</td>\n",
       "      <td>4</td>\n",
       "      <td>1</td>\n",
       "    </tr>\n",
       "    <tr>\n",
       "      <th>4</th>\n",
       "      <td>1</td>\n",
       "      <td>rain</td>\n",
       "      <td>8.755556</td>\n",
       "      <td>6.977778</td>\n",
       "      <td>0.83</td>\n",
       "      <td>11.0446</td>\n",
       "      <td>259.0</td>\n",
       "      <td>15.8263</td>\n",
       "      <td>0.0</td>\n",
       "      <td>1016.51</td>\n",
       "      <td>4</td>\n",
       "      <td>1</td>\n",
       "    </tr>\n",
       "  </tbody>\n",
       "</table>\n",
       "</div>"
      ],
      "text/plain": [
       "  Summary Precip Type  Temperature (C)  Apparent Temperature (C)  Humidity  \\\n",
       "0       2        rain         9.472222                  7.388889      0.89   \n",
       "1       2        rain         9.355556                  7.227778      0.86   \n",
       "2       1        rain         9.377778                  9.377778      0.89   \n",
       "3       2        rain         8.288889                  5.944444      0.83   \n",
       "4       1        rain         8.755556                  6.977778      0.83   \n",
       "\n",
       "   Wind Speed (km/h)  Wind Bearing (degrees)  Visibility (km)  Loud Cover  \\\n",
       "0            14.1197                   251.0          15.8263         0.0   \n",
       "1            14.2646                   259.0          15.8263         0.0   \n",
       "2             3.9284                   204.0          14.9569         0.0   \n",
       "3            14.1036                   269.0          15.8263         0.0   \n",
       "4            11.0446                   259.0          15.8263         0.0   \n",
       "\n",
       "   Pressure (millibars)  month  day  \n",
       "0               1015.13      3   31  \n",
       "1               1015.63      3   31  \n",
       "2               1015.94      4    1  \n",
       "3               1016.41      4    1  \n",
       "4               1016.51      4    1  "
      ]
     },
     "execution_count": 788,
     "metadata": {},
     "output_type": "execute_result"
    }
   ],
   "source": [
    "df.head()"
   ]
  },
  {
   "cell_type": "code",
   "execution_count": 789,
   "id": "cb5798e7",
   "metadata": {
    "scrolled": false
   },
   "outputs": [
    {
     "data": {
      "text/html": [
       "<div>\n",
       "<style scoped>\n",
       "    .dataframe tbody tr th:only-of-type {\n",
       "        vertical-align: middle;\n",
       "    }\n",
       "\n",
       "    .dataframe tbody tr th {\n",
       "        vertical-align: top;\n",
       "    }\n",
       "\n",
       "    .dataframe thead th {\n",
       "        text-align: right;\n",
       "    }\n",
       "</style>\n",
       "<table border=\"1\" class=\"dataframe\">\n",
       "  <thead>\n",
       "    <tr style=\"text-align: right;\">\n",
       "      <th></th>\n",
       "      <th>Summary</th>\n",
       "      <th>Temperature (C)</th>\n",
       "      <th>Apparent Temperature (C)</th>\n",
       "      <th>Humidity</th>\n",
       "      <th>Wind Speed (km/h)</th>\n",
       "      <th>Wind Bearing (degrees)</th>\n",
       "      <th>Visibility (km)</th>\n",
       "      <th>Loud Cover</th>\n",
       "      <th>Pressure (millibars)</th>\n",
       "      <th>month</th>\n",
       "      <th>day</th>\n",
       "      <th>Precip Type_snow</th>\n",
       "    </tr>\n",
       "  </thead>\n",
       "  <tbody>\n",
       "    <tr>\n",
       "      <th>0</th>\n",
       "      <td>2</td>\n",
       "      <td>9.472222</td>\n",
       "      <td>7.388889</td>\n",
       "      <td>0.89</td>\n",
       "      <td>14.1197</td>\n",
       "      <td>251.0</td>\n",
       "      <td>15.8263</td>\n",
       "      <td>0.0</td>\n",
       "      <td>1015.13</td>\n",
       "      <td>3</td>\n",
       "      <td>31</td>\n",
       "      <td>0</td>\n",
       "    </tr>\n",
       "    <tr>\n",
       "      <th>1</th>\n",
       "      <td>2</td>\n",
       "      <td>9.355556</td>\n",
       "      <td>7.227778</td>\n",
       "      <td>0.86</td>\n",
       "      <td>14.2646</td>\n",
       "      <td>259.0</td>\n",
       "      <td>15.8263</td>\n",
       "      <td>0.0</td>\n",
       "      <td>1015.63</td>\n",
       "      <td>3</td>\n",
       "      <td>31</td>\n",
       "      <td>0</td>\n",
       "    </tr>\n",
       "    <tr>\n",
       "      <th>2</th>\n",
       "      <td>1</td>\n",
       "      <td>9.377778</td>\n",
       "      <td>9.377778</td>\n",
       "      <td>0.89</td>\n",
       "      <td>3.9284</td>\n",
       "      <td>204.0</td>\n",
       "      <td>14.9569</td>\n",
       "      <td>0.0</td>\n",
       "      <td>1015.94</td>\n",
       "      <td>4</td>\n",
       "      <td>1</td>\n",
       "      <td>0</td>\n",
       "    </tr>\n",
       "    <tr>\n",
       "      <th>3</th>\n",
       "      <td>2</td>\n",
       "      <td>8.288889</td>\n",
       "      <td>5.944444</td>\n",
       "      <td>0.83</td>\n",
       "      <td>14.1036</td>\n",
       "      <td>269.0</td>\n",
       "      <td>15.8263</td>\n",
       "      <td>0.0</td>\n",
       "      <td>1016.41</td>\n",
       "      <td>4</td>\n",
       "      <td>1</td>\n",
       "      <td>0</td>\n",
       "    </tr>\n",
       "    <tr>\n",
       "      <th>4</th>\n",
       "      <td>1</td>\n",
       "      <td>8.755556</td>\n",
       "      <td>6.977778</td>\n",
       "      <td>0.83</td>\n",
       "      <td>11.0446</td>\n",
       "      <td>259.0</td>\n",
       "      <td>15.8263</td>\n",
       "      <td>0.0</td>\n",
       "      <td>1016.51</td>\n",
       "      <td>4</td>\n",
       "      <td>1</td>\n",
       "      <td>0</td>\n",
       "    </tr>\n",
       "    <tr>\n",
       "      <th>...</th>\n",
       "      <td>...</td>\n",
       "      <td>...</td>\n",
       "      <td>...</td>\n",
       "      <td>...</td>\n",
       "      <td>...</td>\n",
       "      <td>...</td>\n",
       "      <td>...</td>\n",
       "      <td>...</td>\n",
       "      <td>...</td>\n",
       "      <td>...</td>\n",
       "      <td>...</td>\n",
       "      <td>...</td>\n",
       "    </tr>\n",
       "    <tr>\n",
       "      <th>96448</th>\n",
       "      <td>2</td>\n",
       "      <td>26.016667</td>\n",
       "      <td>26.016667</td>\n",
       "      <td>0.43</td>\n",
       "      <td>10.9963</td>\n",
       "      <td>31.0</td>\n",
       "      <td>16.1000</td>\n",
       "      <td>0.0</td>\n",
       "      <td>1014.36</td>\n",
       "      <td>9</td>\n",
       "      <td>9</td>\n",
       "      <td>0</td>\n",
       "    </tr>\n",
       "    <tr>\n",
       "      <th>96449</th>\n",
       "      <td>2</td>\n",
       "      <td>24.583333</td>\n",
       "      <td>24.583333</td>\n",
       "      <td>0.48</td>\n",
       "      <td>10.0947</td>\n",
       "      <td>20.0</td>\n",
       "      <td>15.5526</td>\n",
       "      <td>0.0</td>\n",
       "      <td>1015.16</td>\n",
       "      <td>9</td>\n",
       "      <td>9</td>\n",
       "      <td>0</td>\n",
       "    </tr>\n",
       "    <tr>\n",
       "      <th>96450</th>\n",
       "      <td>2</td>\n",
       "      <td>22.038889</td>\n",
       "      <td>22.038889</td>\n",
       "      <td>0.56</td>\n",
       "      <td>8.9838</td>\n",
       "      <td>30.0</td>\n",
       "      <td>16.1000</td>\n",
       "      <td>0.0</td>\n",
       "      <td>1015.66</td>\n",
       "      <td>9</td>\n",
       "      <td>9</td>\n",
       "      <td>0</td>\n",
       "    </tr>\n",
       "    <tr>\n",
       "      <th>96451</th>\n",
       "      <td>2</td>\n",
       "      <td>21.522222</td>\n",
       "      <td>21.522222</td>\n",
       "      <td>0.60</td>\n",
       "      <td>10.5294</td>\n",
       "      <td>20.0</td>\n",
       "      <td>16.1000</td>\n",
       "      <td>0.0</td>\n",
       "      <td>1015.95</td>\n",
       "      <td>9</td>\n",
       "      <td>9</td>\n",
       "      <td>0</td>\n",
       "    </tr>\n",
       "    <tr>\n",
       "      <th>96452</th>\n",
       "      <td>2</td>\n",
       "      <td>20.438889</td>\n",
       "      <td>20.438889</td>\n",
       "      <td>0.61</td>\n",
       "      <td>5.8765</td>\n",
       "      <td>39.0</td>\n",
       "      <td>15.5204</td>\n",
       "      <td>0.0</td>\n",
       "      <td>1016.16</td>\n",
       "      <td>9</td>\n",
       "      <td>9</td>\n",
       "      <td>0</td>\n",
       "    </tr>\n",
       "  </tbody>\n",
       "</table>\n",
       "<p>87176 rows × 12 columns</p>\n",
       "</div>"
      ],
      "text/plain": [
       "      Summary  Temperature (C)  Apparent Temperature (C)  Humidity  \\\n",
       "0           2         9.472222                  7.388889      0.89   \n",
       "1           2         9.355556                  7.227778      0.86   \n",
       "2           1         9.377778                  9.377778      0.89   \n",
       "3           2         8.288889                  5.944444      0.83   \n",
       "4           1         8.755556                  6.977778      0.83   \n",
       "...       ...              ...                       ...       ...   \n",
       "96448       2        26.016667                 26.016667      0.43   \n",
       "96449       2        24.583333                 24.583333      0.48   \n",
       "96450       2        22.038889                 22.038889      0.56   \n",
       "96451       2        21.522222                 21.522222      0.60   \n",
       "96452       2        20.438889                 20.438889      0.61   \n",
       "\n",
       "       Wind Speed (km/h)  Wind Bearing (degrees)  Visibility (km)  Loud Cover  \\\n",
       "0                14.1197                   251.0          15.8263         0.0   \n",
       "1                14.2646                   259.0          15.8263         0.0   \n",
       "2                 3.9284                   204.0          14.9569         0.0   \n",
       "3                14.1036                   269.0          15.8263         0.0   \n",
       "4                11.0446                   259.0          15.8263         0.0   \n",
       "...                  ...                     ...              ...         ...   \n",
       "96448            10.9963                    31.0          16.1000         0.0   \n",
       "96449            10.0947                    20.0          15.5526         0.0   \n",
       "96450             8.9838                    30.0          16.1000         0.0   \n",
       "96451            10.5294                    20.0          16.1000         0.0   \n",
       "96452             5.8765                    39.0          15.5204         0.0   \n",
       "\n",
       "       Pressure (millibars)  month  day  Precip Type_snow  \n",
       "0                   1015.13      3   31                 0  \n",
       "1                   1015.63      3   31                 0  \n",
       "2                   1015.94      4    1                 0  \n",
       "3                   1016.41      4    1                 0  \n",
       "4                   1016.51      4    1                 0  \n",
       "...                     ...    ...  ...               ...  \n",
       "96448               1014.36      9    9                 0  \n",
       "96449               1015.16      9    9                 0  \n",
       "96450               1015.66      9    9                 0  \n",
       "96451               1015.95      9    9                 0  \n",
       "96452               1016.16      9    9                 0  \n",
       "\n",
       "[87176 rows x 12 columns]"
      ]
     },
     "execution_count": 789,
     "metadata": {},
     "output_type": "execute_result"
    }
   ],
   "source": [
    "#getting dummy variables\n",
    "pd.get_dummies(df,columns=['Precip Type'],drop_first=True)"
   ]
  },
  {
   "cell_type": "markdown",
   "id": "65f9aebe",
   "metadata": {},
   "source": [
    "**Numerical Variables**"
   ]
  },
  {
   "cell_type": "code",
   "execution_count": 790,
   "id": "2bf22508",
   "metadata": {
    "scrolled": false
   },
   "outputs": [
    {
     "data": {
      "text/plain": [
       "<AxesSubplot:>"
      ]
     },
     "execution_count": 790,
     "metadata": {},
     "output_type": "execute_result"
    },
    {
     "data": {
      "image/png": "[encoded data removed]",
      "text/plain": [
       "<Figure size 864x864 with 2 Axes>"
      ]
     },
     "metadata": {
      "needs_background": "light"
     },
     "output_type": "display_data"
    }
   ],
   "source": [
    "f,ax= plt.subplots(figsize=(12,12))\n",
    "sns.heatmap(df.corr(),annot=True,ax=ax)"
   ]
  },
  {
   "cell_type": "code",
   "execution_count": 791,
   "id": "3c402260",
   "metadata": {
    "scrolled": true
   },
   "outputs": [
    {
     "data": {
      "text/plain": [
       "array([0.])"
      ]
     },
     "execution_count": 791,
     "metadata": {},
     "output_type": "execute_result"
    }
   ],
   "source": [
    "#Lout cover is all zeros\n",
    "df['Loud Cover'].unique()"
   ]
  },
  {
   "cell_type": "code",
   "execution_count": 792,
   "id": "eed8bb86",
   "metadata": {},
   "outputs": [],
   "source": [
    "df = df.drop(columns=['Loud Cover'])"
   ]
  },
  {
   "cell_type": "code",
   "execution_count": 793,
   "id": "fa844d89",
   "metadata": {},
   "outputs": [],
   "source": [
    "#Apparent Temperature is highly correlated with temperature so dropping it\n",
    "df = df.drop(columns=['Apparent Temperature (C)'])"
   ]
  },
  {
   "cell_type": "code",
   "execution_count": null,
   "id": "eff3e499",
   "metadata": {},
   "outputs": [],
   "source": []
  },
  {
   "cell_type": "code",
   "execution_count": 794,
   "id": "39a0f5b6",
   "metadata": {},
   "outputs": [
    {
     "data": {
      "image/png": "[encoded data removed]",
      "text/plain": [
       "<Figure size 432x288 with 1 Axes>"
      ]
     },
     "metadata": {
      "needs_background": "light"
     },
     "output_type": "display_data"
    },
    {
     "data": {
      "image/png": "[encoded data removed]",
      "text/plain": [
       "<Figure size 432x288 with 1 Axes>"
      ]
     },
     "metadata": {
      "needs_background": "light"
     },
     "output_type": "display_data"
    },
    {
     "data": {
      "image/png": "[encoded data removed]",
      "text/plain": [
       "<Figure size 432x288 with 1 Axes>"
      ]
     },
     "metadata": {
      "needs_background": "light"
     },
     "output_type": "display_data"
    },
    {
     "data": {
      "image/png": "[encoded data removed]",
      "text/plain": [
       "<Figure size 432x288 with 1 Axes>"
      ]
     },
     "metadata": {
      "needs_background": "light"
     },
     "output_type": "display_data"
    },
    {
     "data": {
      "image/png": "[encoded data removed]",
      "text/plain": [
       "<Figure size 432x288 with 1 Axes>"
      ]
     },
     "metadata": {
      "needs_background": "light"
     },
     "output_type": "display_data"
    },
    {
     "data": {
      "image/png": "[encoded data removed]",
      "text/plain": [
       "<Figure size 432x288 with 1 Axes>"
      ]
     },
     "metadata": {
      "needs_background": "light"
     },
     "output_type": "display_data"
    },
    {
     "data": {
      "image/png": "[encoded data removed]",
      "text/plain": [
       "<Figure size 432x288 with 1 Axes>"
      ]
     },
     "metadata": {
      "needs_background": "light"
     },
     "output_type": "display_data"
    },
    {
     "data": {
      "image/png": "[encoded data removed]",
      "text/plain": [
       "<Figure size 432x288 with 1 Axes>"
      ]
     },
     "metadata": {
      "needs_background": "light"
     },
     "output_type": "display_data"
    },
    {
     "data": {
      "image/png": "[encoded data removed]",
      "text/plain": [
       "<Figure size 432x288 with 1 Axes>"
      ]
     },
     "metadata": {
      "needs_background": "light"
     },
     "output_type": "display_data"
    },
    {
     "data": {
      "image/png": "[encoded data removed]",
      "text/plain": [
       "<Figure size 432x288 with 1 Axes>"
      ]
     },
     "metadata": {
      "needs_background": "light"
     },
     "output_type": "display_data"
    }
   ],
   "source": [
    "for i in df.columns:\n",
    "    sns.histplot(df[i])\n",
    "    plt.show()"
   ]
  },
  {
   "cell_type": "code",
   "execution_count": 795,
   "id": "d0f3165d",
   "metadata": {},
   "outputs": [
    {
     "data": {
      "text/html": [
       "<div>\n",
       "<style scoped>\n",
       "    .dataframe tbody tr th:only-of-type {\n",
       "        vertical-align: middle;\n",
       "    }\n",
       "\n",
       "    .dataframe tbody tr th {\n",
       "        vertical-align: top;\n",
       "    }\n",
       "\n",
       "    .dataframe thead th {\n",
       "        text-align: right;\n",
       "    }\n",
       "</style>\n",
       "<table border=\"1\" class=\"dataframe\">\n",
       "  <thead>\n",
       "    <tr style=\"text-align: right;\">\n",
       "      <th></th>\n",
       "      <th>Summary</th>\n",
       "      <th>Precip Type</th>\n",
       "      <th>Temperature (C)</th>\n",
       "      <th>Humidity</th>\n",
       "      <th>Wind Speed (km/h)</th>\n",
       "      <th>Wind Bearing (degrees)</th>\n",
       "      <th>Visibility (km)</th>\n",
       "      <th>Pressure (millibars)</th>\n",
       "      <th>month</th>\n",
       "      <th>day</th>\n",
       "    </tr>\n",
       "  </thead>\n",
       "  <tbody>\n",
       "    <tr>\n",
       "      <th>0</th>\n",
       "      <td>2</td>\n",
       "      <td>rain</td>\n",
       "      <td>9.472222</td>\n",
       "      <td>0.89</td>\n",
       "      <td>14.1197</td>\n",
       "      <td>251.0</td>\n",
       "      <td>15.8263</td>\n",
       "      <td>1015.13</td>\n",
       "      <td>3</td>\n",
       "      <td>31</td>\n",
       "    </tr>\n",
       "    <tr>\n",
       "      <th>1</th>\n",
       "      <td>2</td>\n",
       "      <td>rain</td>\n",
       "      <td>9.355556</td>\n",
       "      <td>0.86</td>\n",
       "      <td>14.2646</td>\n",
       "      <td>259.0</td>\n",
       "      <td>15.8263</td>\n",
       "      <td>1015.63</td>\n",
       "      <td>3</td>\n",
       "      <td>31</td>\n",
       "    </tr>\n",
       "    <tr>\n",
       "      <th>2</th>\n",
       "      <td>1</td>\n",
       "      <td>rain</td>\n",
       "      <td>9.377778</td>\n",
       "      <td>0.89</td>\n",
       "      <td>3.9284</td>\n",
       "      <td>204.0</td>\n",
       "      <td>14.9569</td>\n",
       "      <td>1015.94</td>\n",
       "      <td>4</td>\n",
       "      <td>1</td>\n",
       "    </tr>\n",
       "    <tr>\n",
       "      <th>3</th>\n",
       "      <td>2</td>\n",
       "      <td>rain</td>\n",
       "      <td>8.288889</td>\n",
       "      <td>0.83</td>\n",
       "      <td>14.1036</td>\n",
       "      <td>269.0</td>\n",
       "      <td>15.8263</td>\n",
       "      <td>1016.41</td>\n",
       "      <td>4</td>\n",
       "      <td>1</td>\n",
       "    </tr>\n",
       "    <tr>\n",
       "      <th>4</th>\n",
       "      <td>1</td>\n",
       "      <td>rain</td>\n",
       "      <td>8.755556</td>\n",
       "      <td>0.83</td>\n",
       "      <td>11.0446</td>\n",
       "      <td>259.0</td>\n",
       "      <td>15.8263</td>\n",
       "      <td>1016.51</td>\n",
       "      <td>4</td>\n",
       "      <td>1</td>\n",
       "    </tr>\n",
       "    <tr>\n",
       "      <th>...</th>\n",
       "      <td>...</td>\n",
       "      <td>...</td>\n",
       "      <td>...</td>\n",
       "      <td>...</td>\n",
       "      <td>...</td>\n",
       "      <td>...</td>\n",
       "      <td>...</td>\n",
       "      <td>...</td>\n",
       "      <td>...</td>\n",
       "      <td>...</td>\n",
       "    </tr>\n",
       "    <tr>\n",
       "      <th>96448</th>\n",
       "      <td>2</td>\n",
       "      <td>rain</td>\n",
       "      <td>26.016667</td>\n",
       "      <td>0.43</td>\n",
       "      <td>10.9963</td>\n",
       "      <td>31.0</td>\n",
       "      <td>16.1000</td>\n",
       "      <td>1014.36</td>\n",
       "      <td>9</td>\n",
       "      <td>9</td>\n",
       "    </tr>\n",
       "    <tr>\n",
       "      <th>96449</th>\n",
       "      <td>2</td>\n",
       "      <td>rain</td>\n",
       "      <td>24.583333</td>\n",
       "      <td>0.48</td>\n",
       "      <td>10.0947</td>\n",
       "      <td>20.0</td>\n",
       "      <td>15.5526</td>\n",
       "      <td>1015.16</td>\n",
       "      <td>9</td>\n",
       "      <td>9</td>\n",
       "    </tr>\n",
       "    <tr>\n",
       "      <th>96450</th>\n",
       "      <td>2</td>\n",
       "      <td>rain</td>\n",
       "      <td>22.038889</td>\n",
       "      <td>0.56</td>\n",
       "      <td>8.9838</td>\n",
       "      <td>30.0</td>\n",
       "      <td>16.1000</td>\n",
       "      <td>1015.66</td>\n",
       "      <td>9</td>\n",
       "      <td>9</td>\n",
       "    </tr>\n",
       "    <tr>\n",
       "      <th>96451</th>\n",
       "      <td>2</td>\n",
       "      <td>rain</td>\n",
       "      <td>21.522222</td>\n",
       "      <td>0.60</td>\n",
       "      <td>10.5294</td>\n",
       "      <td>20.0</td>\n",
       "      <td>16.1000</td>\n",
       "      <td>1015.95</td>\n",
       "      <td>9</td>\n",
       "      <td>9</td>\n",
       "    </tr>\n",
       "    <tr>\n",
       "      <th>96452</th>\n",
       "      <td>2</td>\n",
       "      <td>rain</td>\n",
       "      <td>20.438889</td>\n",
       "      <td>0.61</td>\n",
       "      <td>5.8765</td>\n",
       "      <td>39.0</td>\n",
       "      <td>15.5204</td>\n",
       "      <td>1016.16</td>\n",
       "      <td>9</td>\n",
       "      <td>9</td>\n",
       "    </tr>\n",
       "  </tbody>\n",
       "</table>\n",
       "<p>87176 rows × 10 columns</p>\n",
       "</div>"
      ],
      "text/plain": [
       "      Summary Precip Type  Temperature (C)  Humidity  Wind Speed (km/h)  \\\n",
       "0           2        rain         9.472222      0.89            14.1197   \n",
       "1           2        rain         9.355556      0.86            14.2646   \n",
       "2           1        rain         9.377778      0.89             3.9284   \n",
       "3           2        rain         8.288889      0.83            14.1036   \n",
       "4           1        rain         8.755556      0.83            11.0446   \n",
       "...       ...         ...              ...       ...                ...   \n",
       "96448       2        rain        26.016667      0.43            10.9963   \n",
       "96449       2        rain        24.583333      0.48            10.0947   \n",
       "96450       2        rain        22.038889      0.56             8.9838   \n",
       "96451       2        rain        21.522222      0.60            10.5294   \n",
       "96452       2        rain        20.438889      0.61             5.8765   \n",
       "\n",
       "       Wind Bearing (degrees)  Visibility (km)  Pressure (millibars)  month  \\\n",
       "0                       251.0          15.8263               1015.13      3   \n",
       "1                       259.0          15.8263               1015.63      3   \n",
       "2                       204.0          14.9569               1015.94      4   \n",
       "3                       269.0          15.8263               1016.41      4   \n",
       "4                       259.0          15.8263               1016.51      4   \n",
       "...                       ...              ...                   ...    ...   \n",
       "96448                    31.0          16.1000               1014.36      9   \n",
       "96449                    20.0          15.5526               1015.16      9   \n",
       "96450                    30.0          16.1000               1015.66      9   \n",
       "96451                    20.0          16.1000               1015.95      9   \n",
       "96452                    39.0          15.5204               1016.16      9   \n",
       "\n",
       "       day  \n",
       "0       31  \n",
       "1       31  \n",
       "2        1  \n",
       "3        1  \n",
       "4        1  \n",
       "...    ...  \n",
       "96448    9  \n",
       "96449    9  \n",
       "96450    9  \n",
       "96451    9  \n",
       "96452    9  \n",
       "\n",
       "[87176 rows x 10 columns]"
      ]
     },
     "execution_count": 795,
     "metadata": {},
     "output_type": "execute_result"
    }
   ],
   "source": [
    "df"
   ]
  },
  {
   "cell_type": "code",
   "execution_count": 796,
   "id": "f0364a06",
   "metadata": {
    "scrolled": true
   },
   "outputs": [
    {
     "data": {
      "text/plain": [
       "<AxesSubplot:xlabel='Humidity', ylabel='Count'>"
      ]
     },
     "execution_count": 796,
     "metadata": {},
     "output_type": "execute_result"
    },
    {
     "data": {
      "image/png": "[encoded data removed]",
      "text/plain": [
       "<Figure size 432x288 with 1 Axes>"
      ]
     },
     "metadata": {
      "needs_background": "light"
     },
     "output_type": "display_data"
    }
   ],
   "source": [
    "#Reflecting Humidity and square root transforming\n",
    "\n",
    "df['Humidity'] = max(df['Humidity'])-df['Humidity']\n",
    "df['Humidity'] = np.sqrt(df['Humidity'])\n",
    "sns.histplot(df['Humidity'])"
   ]
  },
  {
   "cell_type": "code",
   "execution_count": 797,
   "id": "ab51b71d",
   "metadata": {},
   "outputs": [
    {
     "data": {
      "text/plain": [
       "<AxesSubplot:>"
      ]
     },
     "execution_count": 797,
     "metadata": {},
     "output_type": "execute_result"
    },
    {
     "data": {
      "image/png": "[encoded data removed]",
      "text/plain": [
       "<Figure size 432x288 with 1 Axes>"
      ]
     },
     "metadata": {
      "needs_background": "light"
     },
     "output_type": "display_data"
    }
   ],
   "source": [
    "df['Humidity'].plot.box()"
   ]
  },
  {
   "cell_type": "code",
   "execution_count": 798,
   "id": "156b03b3",
   "metadata": {
    "scrolled": true
   },
   "outputs": [
    {
     "data": {
      "text/plain": [
       "count    87176.000000\n",
       "mean         0.473000\n",
       "std          0.202929\n",
       "min          0.000000\n",
       "25%          0.331662\n",
       "50%          0.469042\n",
       "75%          0.632456\n",
       "max          1.000000\n",
       "Name: Humidity, dtype: float64"
      ]
     },
     "execution_count": 798,
     "metadata": {},
     "output_type": "execute_result"
    }
   ],
   "source": [
    "df['Humidity'].describe()"
   ]
  },
  {
   "cell_type": "code",
   "execution_count": 799,
   "id": "9efa78f1",
   "metadata": {},
   "outputs": [
    {
     "data": {
      "text/plain": [
       "<AxesSubplot:>"
      ]
     },
     "execution_count": 799,
     "metadata": {},
     "output_type": "execute_result"
    },
    {
     "data": {
      "image/png": "[encoded data removed]",
      "text/plain": [
       "<Figure size 432x288 with 1 Axes>"
      ]
     },
     "metadata": {
      "needs_background": "light"
     },
     "output_type": "display_data"
    }
   ],
   "source": [
    "#Too many zeros replacing them with the median since there many outliers \n",
    "df['Pressure (millibars)'].plot.box()"
   ]
  },
  {
   "cell_type": "code",
   "execution_count": 800,
   "id": "916c5571",
   "metadata": {},
   "outputs": [],
   "source": [
    "foo = df['Pressure (millibars)'].copy()\n",
    "foo[foo==0] = foo.median()"
   ]
  },
  {
   "cell_type": "code",
   "execution_count": 801,
   "id": "cc23f877",
   "metadata": {},
   "outputs": [],
   "source": [
    "df['Pressure (millibars)'] = foo"
   ]
  },
  {
   "cell_type": "code",
   "execution_count": 802,
   "id": "6ff3b5c3",
   "metadata": {},
   "outputs": [
    {
     "data": {
      "text/plain": [
       "<AxesSubplot:>"
      ]
     },
     "execution_count": 802,
     "metadata": {},
     "output_type": "execute_result"
    },
    {
     "data": {
      "image/png": "[encoded data removed]",
      "text/plain": [
       "<Figure size 432x288 with 1 Axes>"
      ]
     },
     "metadata": {
      "needs_background": "light"
     },
     "output_type": "display_data"
    }
   ],
   "source": [
    "df['Pressure (millibars)'].plot.box()"
   ]
  },
  {
   "cell_type": "code",
   "execution_count": 803,
   "id": "8f068ecc",
   "metadata": {},
   "outputs": [
    {
     "data": {
      "text/plain": [
       "<AxesSubplot:ylabel='Frequency'>"
      ]
     },
     "execution_count": 803,
     "metadata": {},
     "output_type": "execute_result"
    },
    {
     "data": {
      "image/png": "[encoded data removed]",
      "text/plain": [
       "<Figure size 432x288 with 1 Axes>"
      ]
     },
     "metadata": {
      "needs_background": "light"
     },
     "output_type": "display_data"
    }
   ],
   "source": [
    "df['Pressure (millibars)'].plot.hist()"
   ]
  },
  {
   "cell_type": "code",
   "execution_count": 804,
   "id": "d927f0a2",
   "metadata": {},
   "outputs": [],
   "source": [
    "y = df.pop('Temperature (C)')"
   ]
  },
  {
   "cell_type": "code",
   "execution_count": 805,
   "id": "bdd07b72",
   "metadata": {},
   "outputs": [
    {
     "data": {
      "text/plain": [
       "count    87176.000000\n",
       "mean        11.903684\n",
       "std          9.590244\n",
       "min        -21.822222\n",
       "25%          4.637500\n",
       "50%         12.022222\n",
       "75%         18.838889\n",
       "max         39.905556\n",
       "Name: Temperature (C), dtype: float64"
      ]
     },
     "execution_count": 805,
     "metadata": {},
     "output_type": "execute_result"
    }
   ],
   "source": [
    "y.describe()"
   ]
  },
  {
   "cell_type": "code",
   "execution_count": 806,
   "id": "c745d748",
   "metadata": {},
   "outputs": [],
   "source": [
    "#center y\n",
    "#y = (y-min(y))/(max(y)-min(y))"
   ]
  },
  {
   "cell_type": "code",
   "execution_count": 807,
   "id": "469ee967",
   "metadata": {
    "scrolled": true
   },
   "outputs": [
    {
     "data": {
      "text/html": [
       "<div>\n",
       "<style scoped>\n",
       "    .dataframe tbody tr th:only-of-type {\n",
       "        vertical-align: middle;\n",
       "    }\n",
       "\n",
       "    .dataframe tbody tr th {\n",
       "        vertical-align: top;\n",
       "    }\n",
       "\n",
       "    .dataframe thead th {\n",
       "        text-align: right;\n",
       "    }\n",
       "</style>\n",
       "<table border=\"1\" class=\"dataframe\">\n",
       "  <thead>\n",
       "    <tr style=\"text-align: right;\">\n",
       "      <th></th>\n",
       "      <th>Summary</th>\n",
       "      <th>Precip Type</th>\n",
       "      <th>Humidity</th>\n",
       "      <th>Wind Speed (km/h)</th>\n",
       "      <th>Wind Bearing (degrees)</th>\n",
       "      <th>Visibility (km)</th>\n",
       "      <th>Pressure (millibars)</th>\n",
       "      <th>month</th>\n",
       "      <th>day</th>\n",
       "    </tr>\n",
       "  </thead>\n",
       "  <tbody>\n",
       "    <tr>\n",
       "      <th>0</th>\n",
       "      <td>2</td>\n",
       "      <td>rain</td>\n",
       "      <td>0.331662</td>\n",
       "      <td>14.1197</td>\n",
       "      <td>251.0</td>\n",
       "      <td>15.8263</td>\n",
       "      <td>1015.13</td>\n",
       "      <td>3</td>\n",
       "      <td>31</td>\n",
       "    </tr>\n",
       "    <tr>\n",
       "      <th>1</th>\n",
       "      <td>2</td>\n",
       "      <td>rain</td>\n",
       "      <td>0.374166</td>\n",
       "      <td>14.2646</td>\n",
       "      <td>259.0</td>\n",
       "      <td>15.8263</td>\n",
       "      <td>1015.63</td>\n",
       "      <td>3</td>\n",
       "      <td>31</td>\n",
       "    </tr>\n",
       "    <tr>\n",
       "      <th>2</th>\n",
       "      <td>1</td>\n",
       "      <td>rain</td>\n",
       "      <td>0.331662</td>\n",
       "      <td>3.9284</td>\n",
       "      <td>204.0</td>\n",
       "      <td>14.9569</td>\n",
       "      <td>1015.94</td>\n",
       "      <td>4</td>\n",
       "      <td>1</td>\n",
       "    </tr>\n",
       "    <tr>\n",
       "      <th>3</th>\n",
       "      <td>2</td>\n",
       "      <td>rain</td>\n",
       "      <td>0.412311</td>\n",
       "      <td>14.1036</td>\n",
       "      <td>269.0</td>\n",
       "      <td>15.8263</td>\n",
       "      <td>1016.41</td>\n",
       "      <td>4</td>\n",
       "      <td>1</td>\n",
       "    </tr>\n",
       "    <tr>\n",
       "      <th>4</th>\n",
       "      <td>1</td>\n",
       "      <td>rain</td>\n",
       "      <td>0.412311</td>\n",
       "      <td>11.0446</td>\n",
       "      <td>259.0</td>\n",
       "      <td>15.8263</td>\n",
       "      <td>1016.51</td>\n",
       "      <td>4</td>\n",
       "      <td>1</td>\n",
       "    </tr>\n",
       "  </tbody>\n",
       "</table>\n",
       "</div>"
      ],
      "text/plain": [
       "  Summary Precip Type  Humidity  Wind Speed (km/h)  Wind Bearing (degrees)  \\\n",
       "0       2        rain  0.331662            14.1197                   251.0   \n",
       "1       2        rain  0.374166            14.2646                   259.0   \n",
       "2       1        rain  0.331662             3.9284                   204.0   \n",
       "3       2        rain  0.412311            14.1036                   269.0   \n",
       "4       1        rain  0.412311            11.0446                   259.0   \n",
       "\n",
       "   Visibility (km)  Pressure (millibars)  month  day  \n",
       "0          15.8263               1015.13      3   31  \n",
       "1          15.8263               1015.63      3   31  \n",
       "2          14.9569               1015.94      4    1  \n",
       "3          15.8263               1016.41      4    1  \n",
       "4          15.8263               1016.51      4    1  "
      ]
     },
     "execution_count": 807,
     "metadata": {},
     "output_type": "execute_result"
    }
   ],
   "source": [
    "df.head()"
   ]
  },
  {
   "cell_type": "code",
   "execution_count": 808,
   "id": "d544766c",
   "metadata": {},
   "outputs": [],
   "source": [
    "df = pd.get_dummies(df,columns=['Precip Type'],drop_first=True)"
   ]
  },
  {
   "cell_type": "code",
   "execution_count": null,
   "id": "a8c44b5d",
   "metadata": {},
   "outputs": [],
   "source": []
  },
  {
   "cell_type": "code",
   "execution_count": 809,
   "id": "4f13781e",
   "metadata": {
    "scrolled": true
   },
   "outputs": [],
   "source": [
    "#x = df[['Summary','Humidity','Pressure (millibars)','month','day','Precip Type_snow']]\n",
    "#The lowest r2 score is by just using Humidity\n",
    "x = df[['Humidity']]"
   ]
  },
  {
   "cell_type": "code",
   "execution_count": null,
   "id": "03d99828",
   "metadata": {},
   "outputs": [],
   "source": []
  },
  {
   "cell_type": "code",
   "execution_count": 810,
   "id": "3e7aed18",
   "metadata": {},
   "outputs": [],
   "source": [
    "#normalize x\n",
    "x = (x-x.mean())/x.std()"
   ]
  },
  {
   "cell_type": "code",
   "execution_count": 811,
   "id": "27fc75f2",
   "metadata": {},
   "outputs": [],
   "source": [
    "from sklearn.model_selection import train_test_split\n",
    "from sklearn.linear_model import LinearRegression, Ridge\n",
    "from sklearn.metrics import mean_squared_error, r2_score"
   ]
  },
  {
   "cell_type": "code",
   "execution_count": 812,
   "id": "0bd29a90",
   "metadata": {},
   "outputs": [],
   "source": [
    "x_train, x_test, y_train, y_test = train_test_split(x, y, test_size=0.33, random_state=66)"
   ]
  },
  {
   "cell_type": "code",
   "execution_count": 813,
   "id": "45754326",
   "metadata": {},
   "outputs": [],
   "source": [
    "lr = LinearRegression().fit(x_train,y_train)"
   ]
  },
  {
   "cell_type": "code",
   "execution_count": 814,
   "id": "a7e729ab",
   "metadata": {},
   "outputs": [],
   "source": [
    "predict = lr.predict(x_test)"
   ]
  },
  {
   "cell_type": "code",
   "execution_count": 815,
   "id": "b6cacec9",
   "metadata": {},
   "outputs": [
    {
     "name": "stdout",
     "output_type": "stream",
     "text": [
      "MSE =  59.1498368779906\n",
      "R2 =  0.3590566433540856\n"
     ]
    }
   ],
   "source": [
    "print(\"MSE = \",mean_squared_error(y_test, predict))\n",
    "print(\"R2 = \",r2_score(y_test, predict))"
   ]
  },
  {
   "cell_type": "code",
   "execution_count": 816,
   "id": "1e954811",
   "metadata": {},
   "outputs": [
    {
     "data": {
      "text/plain": [
       "1701681.6571429116"
      ]
     },
     "execution_count": 816,
     "metadata": {},
     "output_type": "execute_result"
    }
   ],
   "source": [
    "np.sum((y_test-predict)**2)"
   ]
  },
  {
   "cell_type": "code",
   "execution_count": 817,
   "id": "5298c346",
   "metadata": {
    "scrolled": true
   },
   "outputs": [
    {
     "name": "stdout",
     "output_type": "stream",
     "text": [
      "0.0001\n",
      "MSE =  59.14983687811521\n",
      "R2 =  0.35905664335273535\n",
      "#############\n",
      "0.001\n",
      "MSE =  59.149836879236666\n",
      "R2 =  0.3590566433405834\n",
      "#############\n",
      "0.01\n",
      "MSE =  59.14983689045211\n",
      "R2 =  0.3590566432190536\n",
      "#############\n",
      "0.1\n",
      "MSE =  59.14983700269338\n",
      "R2 =  0.3590566420028153\n",
      "#############\n",
      "1\n",
      "MSE =  59.149838133782445\n",
      "R2 =  0.35905662974641595\n",
      "#############\n",
      "10\n",
      "MSE =  59.14985031200915\n",
      "R2 =  0.3590564977840317\n",
      "#############\n"
     ]
    }
   ],
   "source": [
    "alphas = [0.0001,0.001,0.01,0.1,1,10]\n",
    "for i in range(len(alphas)):\n",
    "    p = Ridge(alpha=alphas[i]).fit(x_train,y_train).predict(x_test)\n",
    "    print(alphas[i])\n",
    "    print(\"MSE = \",mean_squared_error(y_test, p))\n",
    "    print(\"R2 = \",r2_score(y_test, p))\n",
    "    print('#############')"
   ]
  },
  {
   "cell_type": "code",
   "execution_count": null,
   "id": "f3f20b3f",
   "metadata": {},
   "outputs": [],
   "source": []
  },
  {
   "cell_type": "code",
   "execution_count": null,
   "id": "740d9598",
   "metadata": {},
   "outputs": [],
   "source": []
  },
  {
   "cell_type": "code",
   "execution_count": null,
   "id": "8ea7cec3",
   "metadata": {},
   "outputs": [],
   "source": []
  },
  {
   "cell_type": "code",
   "execution_count": null,
   "id": "f5d1140c",
   "metadata": {},
   "outputs": [],
   "source": []
  },
  {
   "cell_type": "code",
   "execution_count": null,
   "id": "474191e2",
   "metadata": {},
   "outputs": [],
   "source": []
  },
  {
   "cell_type": "code",
   "execution_count": null,
   "id": "e5457a31",
   "metadata": {},
   "outputs": [],
   "source": []
  },
  {
   "cell_type": "code",
   "execution_count": null,
   "id": "622407e1",
   "metadata": {},
   "outputs": [],
   "source": []
  },
  {
   "cell_type": "code",
   "execution_count": null,
   "id": "603f5b34",
   "metadata": {},
   "outputs": [],
   "source": []
  },
  {
   "cell_type": "code",
   "execution_count": null,
   "id": "1420b1a3",
   "metadata": {},
   "outputs": [],
   "source": []
  },
  {
   "cell_type": "code",
   "execution_count": null,
   "id": "cb7b68bd",
   "metadata": {},
   "outputs": [],
   "source": []
  },
  {
   "cell_type": "code",
   "execution_count": null,
   "id": "4a6b7f92",
   "metadata": {},
   "outputs": [],
   "source": []
  },
  {
   "cell_type": "code",
   "execution_count": null,
   "id": "595a9060",
   "metadata": {},
   "outputs": [],
   "source": []
  },
  {
   "cell_type": "code",
   "execution_count": null,
   "id": "ed61812b",
   "metadata": {},
   "outputs": [],
   "source": []
  },
  {
   "cell_type": "code",
   "execution_count": null,
   "id": "5257bd11",
   "metadata": {},
   "outputs": [],
   "source": []
  },
  {
   "cell_type": "code",
   "execution_count": null,
   "id": "f253889e",
   "metadata": {},
   "outputs": [],
   "source": []
  },
  {
   "cell_type": "code",
   "execution_count": null,
   "id": "bfaeda6c",
   "metadata": {},
   "outputs": [],
   "source": []
  },
  {
   "cell_type": "code",
   "execution_count": null,
   "id": "fd202ab1",
   "metadata": {},
   "outputs": [],
   "source": []
  },
  {
   "cell_type": "code",
   "execution_count": null,
   "id": "9817c0fe",
   "metadata": {},
   "outputs": [],
   "source": []
  },
  {
   "cell_type": "code",
   "execution_count": null,
   "id": "e169c9fd",
   "metadata": {},
   "outputs": [],
   "source": []
  },
  {
   "cell_type": "code",
   "execution_count": null,
   "id": "dd1b64fc",
   "metadata": {},
   "outputs": [],
   "source": []
  },
  {
   "cell_type": "code",
   "execution_count": null,
   "id": "8c6e5de2",
   "metadata": {},
   "outputs": [],
   "source": []
  },
  {
   "cell_type": "code",
   "execution_count": null,
   "id": "1afcdd7a",
   "metadata": {},
   "outputs": [],
   "source": []
  },
  {
   "cell_type": "code",
   "execution_count": null,
   "id": "76de6a4b",
   "metadata": {},
   "outputs": [],
   "source": []
  },
  {
   "cell_type": "code",
   "execution_count": null,
   "id": "a30b4b18",
   "metadata": {},
   "outputs": [],
   "source": []
  },
  {
   "cell_type": "code",
   "execution_count": null,
   "id": "c21854b8",
   "metadata": {},
   "outputs": [],
   "source": []
  },
  {
   "cell_type": "code",
   "execution_count": null,
   "id": "be9ce96c",
   "metadata": {},
   "outputs": [],
   "source": []
  },
  {
   "cell_type": "code",
   "execution_count": null,
   "id": "ed0f6c12",
   "metadata": {},
   "outputs": [],
   "source": []
  },
  {
   "cell_type": "code",
   "execution_count": null,
   "id": "5b29d62b",
   "metadata": {},
   "outputs": [],
   "source": []
  },
  {
   "cell_type": "code",
   "execution_count": null,
   "id": "19375e3b",
   "metadata": {},
   "outputs": [],
   "source": []
  }
 ],
 "metadata": {
  "kernelspec": {
   "display_name": "Python 3 (ipykernel)",
   "language": "python",
   "name": "python3"
  },
  "language_info": {
   "codemirror_mode": {
    "name": "ipython",
    "version": 3
   },
   "file_extension": ".py",
   "mimetype": "text/x-python",
   "name": "python",
   "nbconvert_exporter": "python",
   "pygments_lexer": "ipython3",
   "version": "3.8.10"
  }
 },
 "nbformat": 4,
 "nbformat_minor": 5
}
