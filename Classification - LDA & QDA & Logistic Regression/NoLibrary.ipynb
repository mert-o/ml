{
 "cells": [
  {
   "cell_type": "code",
   "execution_count": 86,
   "id": "ccabc9c2",
   "metadata": {},
   "outputs": [],
   "source": [
    "import numpy as np\n",
    "import pandas as pd\n",
    "import matplotlib.pyplot as plt\n",
    "from sklearn.model_selection import train_test_split"
   ]
  },
  {
   "cell_type": "code",
   "execution_count": 45,
   "id": "670fff6a",
   "metadata": {},
   "outputs": [],
   "source": [
    "df = pd.read_csv('sample.csv')\n",
    "#x_train,x_test,y_train,y_test = "
   ]
  },
  {
   "cell_type": "code",
   "execution_count": 46,
   "id": "ba118429",
   "metadata": {},
   "outputs": [
    {
     "data": {
      "text/html": [
       "<div>\n",
       "<style scoped>\n",
       "    .dataframe tbody tr th:only-of-type {\n",
       "        vertical-align: middle;\n",
       "    }\n",
       "\n",
       "    .dataframe tbody tr th {\n",
       "        vertical-align: top;\n",
       "    }\n",
       "\n",
       "    .dataframe thead th {\n",
       "        text-align: right;\n",
       "    }\n",
       "</style>\n",
       "<table border=\"1\" class=\"dataframe\">\n",
       "  <thead>\n",
       "    <tr style=\"text-align: right;\">\n",
       "      <th></th>\n",
       "      <th>Unnamed: 0</th>\n",
       "      <th>first</th>\n",
       "      <th>second</th>\n",
       "      <th>target</th>\n",
       "    </tr>\n",
       "  </thead>\n",
       "  <tbody>\n",
       "    <tr>\n",
       "      <th>0</th>\n",
       "      <td>0</td>\n",
       "      <td>-1.159883</td>\n",
       "      <td>0.238372</td>\n",
       "      <td>0</td>\n",
       "    </tr>\n",
       "    <tr>\n",
       "      <th>1</th>\n",
       "      <td>1</td>\n",
       "      <td>-2.188338</td>\n",
       "      <td>-0.834214</td>\n",
       "      <td>0</td>\n",
       "    </tr>\n",
       "    <tr>\n",
       "      <th>2</th>\n",
       "      <td>2</td>\n",
       "      <td>-1.660250</td>\n",
       "      <td>-1.176996</td>\n",
       "      <td>0</td>\n",
       "    </tr>\n",
       "    <tr>\n",
       "      <th>3</th>\n",
       "      <td>3</td>\n",
       "      <td>-1.742980</td>\n",
       "      <td>-1.025460</td>\n",
       "      <td>0</td>\n",
       "    </tr>\n",
       "    <tr>\n",
       "      <th>4</th>\n",
       "      <td>4</td>\n",
       "      <td>-1.683043</td>\n",
       "      <td>-1.005869</td>\n",
       "      <td>0</td>\n",
       "    </tr>\n",
       "  </tbody>\n",
       "</table>\n",
       "</div>"
      ],
      "text/plain": [
       "   Unnamed: 0     first    second  target\n",
       "0           0 -1.159883  0.238372       0\n",
       "1           1 -2.188338 -0.834214       0\n",
       "2           2 -1.660250 -1.176996       0\n",
       "3           3 -1.742980 -1.025460       0\n",
       "4           4 -1.683043 -1.005869       0"
      ]
     },
     "execution_count": 46,
     "metadata": {},
     "output_type": "execute_result"
    }
   ],
   "source": [
    "df.head()"
   ]
  },
  {
   "cell_type": "code",
   "execution_count": 47,
   "id": "7cc5a8fd",
   "metadata": {
    "scrolled": false
   },
   "outputs": [],
   "source": [
    "df = df.drop(columns=['Unnamed: 0'])\n",
    "target = df.pop('target')"
   ]
  },
  {
   "cell_type": "code",
   "execution_count": 48,
   "id": "d08e983c",
   "metadata": {
    "scrolled": true
   },
   "outputs": [
    {
     "data": {
      "text/html": [
       "<div>\n",
       "<style scoped>\n",
       "    .dataframe tbody tr th:only-of-type {\n",
       "        vertical-align: middle;\n",
       "    }\n",
       "\n",
       "    .dataframe tbody tr th {\n",
       "        vertical-align: top;\n",
       "    }\n",
       "\n",
       "    .dataframe thead th {\n",
       "        text-align: right;\n",
       "    }\n",
       "</style>\n",
       "<table border=\"1\" class=\"dataframe\">\n",
       "  <thead>\n",
       "    <tr style=\"text-align: right;\">\n",
       "      <th></th>\n",
       "      <th>first</th>\n",
       "      <th>second</th>\n",
       "    </tr>\n",
       "  </thead>\n",
       "  <tbody>\n",
       "    <tr>\n",
       "      <th>0</th>\n",
       "      <td>-1.159883</td>\n",
       "      <td>0.238372</td>\n",
       "    </tr>\n",
       "    <tr>\n",
       "      <th>1</th>\n",
       "      <td>-2.188338</td>\n",
       "      <td>-0.834214</td>\n",
       "    </tr>\n",
       "    <tr>\n",
       "      <th>2</th>\n",
       "      <td>-1.660250</td>\n",
       "      <td>-1.176996</td>\n",
       "    </tr>\n",
       "    <tr>\n",
       "      <th>3</th>\n",
       "      <td>-1.742980</td>\n",
       "      <td>-1.025460</td>\n",
       "    </tr>\n",
       "    <tr>\n",
       "      <th>4</th>\n",
       "      <td>-1.683043</td>\n",
       "      <td>-1.005869</td>\n",
       "    </tr>\n",
       "  </tbody>\n",
       "</table>\n",
       "</div>"
      ],
      "text/plain": [
       "      first    second\n",
       "0 -1.159883  0.238372\n",
       "1 -2.188338 -0.834214\n",
       "2 -1.660250 -1.176996\n",
       "3 -1.742980 -1.025460\n",
       "4 -1.683043 -1.005869"
      ]
     },
     "execution_count": 48,
     "metadata": {},
     "output_type": "execute_result"
    }
   ],
   "source": [
    "df.head()"
   ]
  },
  {
   "cell_type": "code",
   "execution_count": 72,
   "id": "d0aab9c7",
   "metadata": {
    "scrolled": true
   },
   "outputs": [
    {
     "data": {
      "text/plain": [
       "<AxesSubplot:ylabel='Frequency'>"
      ]
     },
     "execution_count": 72,
     "metadata": {},
     "output_type": "execute_result"
    },
    {
     "data": {
      "image/png": "[encoded data removed]",
      "text/plain": [
       "<Figure size 432x288 with 1 Axes>"
      ]
     },
     "metadata": {
      "needs_background": "light"
     },
     "output_type": "display_data"
    }
   ],
   "source": [
    "df.plot.hist()"
   ]
  },
  {
   "cell_type": "code",
   "execution_count": 105,
   "id": "7b40c203",
   "metadata": {},
   "outputs": [
    {
     "data": {
      "text/plain": [
       "<AxesSubplot:xlabel='first', ylabel='second'>"
      ]
     },
     "execution_count": 105,
     "metadata": {},
     "output_type": "execute_result"
    },
    {
     "data": {
      "image/png": "[encoded data removed]",
      "text/plain": [
       "<Figure size 432x288 with 1 Axes>"
      ]
     },
     "metadata": {
      "needs_background": "light"
     },
     "output_type": "display_data"
    }
   ],
   "source": [
    "color= ['red' if t == 0 else 'green' for t in target]\n",
    "df.plot.scatter('first','second',c=color)"
   ]
  },
  {
   "cell_type": "markdown",
   "id": "a44ebd3b",
   "metadata": {},
   "source": [
    "**LDA**"
   ]
  },
  {
   "cell_type": "code",
   "execution_count": null,
   "id": "e3e83a9c",
   "metadata": {},
   "outputs": [],
   "source": []
  },
  {
   "cell_type": "code",
   "execution_count": 49,
   "id": "56d13ba5",
   "metadata": {},
   "outputs": [
    {
     "data": {
      "text/plain": [
       "array([0, 1])"
      ]
     },
     "execution_count": 49,
     "metadata": {},
     "output_type": "execute_result"
    }
   ],
   "source": [
    "#Get the classes\n",
    "classes = target.unique()\n",
    "classes"
   ]
  },
  {
   "cell_type": "code",
   "execution_count": null,
   "id": "15ce69de",
   "metadata": {},
   "outputs": [],
   "source": []
  },
  {
   "cell_type": "code",
   "execution_count": 50,
   "id": "a2e06bbd",
   "metadata": {},
   "outputs": [],
   "source": [
    "#Class priors estimation\n",
    "prior0 = df[target==0].shape[0]/df.shape[0]\n",
    "prior1 = df[target==1].shape[0]/df.shape[0]"
   ]
  },
  {
   "cell_type": "code",
   "execution_count": 51,
   "id": "cd8c8948",
   "metadata": {
    "scrolled": true
   },
   "outputs": [
    {
     "data": {
      "text/plain": [
       "0.5"
      ]
     },
     "execution_count": 51,
     "metadata": {},
     "output_type": "execute_result"
    }
   ],
   "source": [
    "prior0"
   ]
  },
  {
   "cell_type": "code",
   "execution_count": 52,
   "id": "87cfdd24",
   "metadata": {},
   "outputs": [
    {
     "data": {
      "text/plain": [
       "first    -0.674116\n",
       "second   -0.779524\n",
       "dtype: float64"
      ]
     },
     "execution_count": 52,
     "metadata": {},
     "output_type": "execute_result"
    }
   ],
   "source": [
    "#Class means estimation\n",
    "mean0 = df[target==0].mean()\n",
    "mean1 = df[target==1].mean()\n",
    "mean0"
   ]
  },
  {
   "cell_type": "code",
   "execution_count": null,
   "id": "21db5ba6",
   "metadata": {},
   "outputs": [],
   "source": []
  },
  {
   "cell_type": "code",
   "execution_count": 53,
   "id": "6a5c02c0",
   "metadata": {},
   "outputs": [],
   "source": [
    "#Covariance estimation, assuming the both classes have the same cov matrix\n",
    "cov = df.cov()"
   ]
  },
  {
   "cell_type": "code",
   "execution_count": 54,
   "id": "c9f939c9",
   "metadata": {
    "scrolled": false
   },
   "outputs": [
    {
     "data": {
      "text/html": [
       "<div>\n",
       "<style scoped>\n",
       "    .dataframe tbody tr th:only-of-type {\n",
       "        vertical-align: middle;\n",
       "    }\n",
       "\n",
       "    .dataframe tbody tr th {\n",
       "        vertical-align: top;\n",
       "    }\n",
       "\n",
       "    .dataframe thead th {\n",
       "        text-align: right;\n",
       "    }\n",
       "</style>\n",
       "<table border=\"1\" class=\"dataframe\">\n",
       "  <thead>\n",
       "    <tr style=\"text-align: right;\">\n",
       "      <th></th>\n",
       "      <th>first</th>\n",
       "      <th>second</th>\n",
       "    </tr>\n",
       "  </thead>\n",
       "  <tbody>\n",
       "    <tr>\n",
       "      <th>first</th>\n",
       "      <td>1.427681</td>\n",
       "      <td>0.093252</td>\n",
       "    </tr>\n",
       "    <tr>\n",
       "      <th>second</th>\n",
       "      <td>0.093252</td>\n",
       "      <td>1.072228</td>\n",
       "    </tr>\n",
       "  </tbody>\n",
       "</table>\n",
       "</div>"
      ],
      "text/plain": [
       "           first    second\n",
       "first   1.427681  0.093252\n",
       "second  0.093252  1.072228"
      ]
     },
     "execution_count": 54,
     "metadata": {},
     "output_type": "execute_result"
    }
   ],
   "source": [
    "cov"
   ]
  },
  {
   "cell_type": "code",
   "execution_count": 79,
   "id": "6f8233b6",
   "metadata": {},
   "outputs": [],
   "source": [
    "#Class covariance estimations\n",
    "cov0 = df[target==0].cov()\n",
    "cov1 = df[target==1].cov()"
   ]
  },
  {
   "cell_type": "code",
   "execution_count": 80,
   "id": "2de02db5",
   "metadata": {},
   "outputs": [
    {
     "data": {
      "text/html": [
       "<div>\n",
       "<style scoped>\n",
       "    .dataframe tbody tr th:only-of-type {\n",
       "        vertical-align: middle;\n",
       "    }\n",
       "\n",
       "    .dataframe tbody tr th {\n",
       "        vertical-align: top;\n",
       "    }\n",
       "\n",
       "    .dataframe thead th {\n",
       "        text-align: right;\n",
       "    }\n",
       "</style>\n",
       "<table border=\"1\" class=\"dataframe\">\n",
       "  <thead>\n",
       "    <tr style=\"text-align: right;\">\n",
       "      <th></th>\n",
       "      <th>first</th>\n",
       "      <th>second</th>\n",
       "    </tr>\n",
       "  </thead>\n",
       "  <tbody>\n",
       "    <tr>\n",
       "      <th>first</th>\n",
       "      <td>1.073231</td>\n",
       "      <td>0.493751</td>\n",
       "    </tr>\n",
       "    <tr>\n",
       "      <th>second</th>\n",
       "      <td>0.493751</td>\n",
       "      <td>0.722541</td>\n",
       "    </tr>\n",
       "  </tbody>\n",
       "</table>\n",
       "</div>"
      ],
      "text/plain": [
       "           first    second\n",
       "first   1.073231  0.493751\n",
       "second  0.493751  0.722541"
      ]
     },
     "execution_count": 80,
     "metadata": {},
     "output_type": "execute_result"
    }
   ],
   "source": [
    "cov0"
   ]
  },
  {
   "attachments": {
    "image-2.png": {
     "image/png": "[encoded data removed]"
    }
   },
   "cell_type": "markdown",
   "id": "971df398",
   "metadata": {},
   "source": [
    "**LDA**\n",
    "\n",
    "![image-2.png](attachment:image-2.png)"
   ]
  },
  {
   "cell_type": "code",
   "execution_count": 95,
   "id": "c81469da",
   "metadata": {},
   "outputs": [],
   "source": [
    "preds = []\n",
    "for x in df.values:\n",
    "    a = -0.5 * (x-mean0).T @ np.linalg.inv(cov) @ (x-mean0) - np.log(prior0)\n",
    "    b = -0.5 * (x-mean1).T @ np.linalg.inv(cov) @ (x-mean1) - np.log(prior1)\n",
    "\n",
    "    if a > b:\n",
    "        preds.append(0)\n",
    "    else:\n",
    "        preds.append(1)"
   ]
  },
  {
   "cell_type": "code",
   "execution_count": 96,
   "id": "a0861116",
   "metadata": {
    "scrolled": true
   },
   "outputs": [
    {
     "data": {
      "text/plain": [
       "-20"
      ]
     },
     "execution_count": 96,
     "metadata": {},
     "output_type": "execute_result"
    }
   ],
   "source": [
    "np.sum(target-preds)"
   ]
  },
  {
   "attachments": {
    "image.png": {
     "image/png": "[encoded data removed]"
    }
   },
   "cell_type": "markdown",
   "id": "3dd9c6e8",
   "metadata": {},
   "source": [
    "**QDA**\n",
    "\n",
    "![image.png](attachment:image.png)\n"
   ]
  },
  {
   "cell_type": "code",
   "execution_count": 103,
   "id": "73b8435d",
   "metadata": {},
   "outputs": [],
   "source": [
    "preds = []\n",
    "for x in df.values:\n",
    "    \n",
    "    det0 = np.linalg.det(cov0)\n",
    "    inv0 = np.linalg.inv(cov0)\n",
    "    \n",
    "    det1 = np.linalg.det(cov1)\n",
    "    inv1 = np.linalg.inv(cov1)\n",
    "    \n",
    "    a = -0.5 * np.log(det0) - 0.5* (x-mean0).T @ inv0 @ (x-mean0) + np.log(prior0)\n",
    "    \n",
    "    b = -0.5 * np.log(det1) - 0.5* (x-mean1).T @ inv1 @ (x-mean1) + np.log(prior1)\n",
    "\n",
    "    if a > b:\n",
    "        preds.append(0)\n",
    "    else:\n",
    "        preds.append(1)"
   ]
  },
  {
   "cell_type": "code",
   "execution_count": 104,
   "id": "5d202f4f",
   "metadata": {},
   "outputs": [
    {
     "data": {
      "text/plain": [
       "-24"
      ]
     },
     "execution_count": 104,
     "metadata": {},
     "output_type": "execute_result"
    }
   ],
   "source": [
    "np.sum(target-preds)"
   ]
  },
  {
   "cell_type": "code",
   "execution_count": 101,
   "id": "809e1af0",
   "metadata": {},
   "outputs": [],
   "source": [
    "from  sklearn.discriminant_analysis import LinearDiscriminantAnalysis,QuadraticDiscriminantAnalysis"
   ]
  },
  {
   "cell_type": "code",
   "execution_count": 92,
   "id": "22576cd9",
   "metadata": {},
   "outputs": [
    {
     "data": {
      "text/plain": [
       "-20"
      ]
     },
     "execution_count": 92,
     "metadata": {},
     "output_type": "execute_result"
    }
   ],
   "source": [
    "clf = LinearDiscriminantAnalysis()\n",
    "clf.fit(df, target)\n",
    "np.sum(target-clf.predict(df))"
   ]
  },
  {
   "cell_type": "code",
   "execution_count": 102,
   "id": "796491d0",
   "metadata": {},
   "outputs": [
    {
     "data": {
      "text/plain": [
       "-24"
      ]
     },
     "execution_count": 102,
     "metadata": {},
     "output_type": "execute_result"
    }
   ],
   "source": [
    "clf = QuadraticDiscriminantAnalysis()\n",
    "clf.fit(df, target)\n",
    "np.sum(target-clf.predict(df))"
   ]
  },
  {
   "attachments": {},
   "cell_type": "markdown",
   "id": "174ed85e",
   "metadata": {},
   "source": []
  },
  {
   "attachments": {
    "image-2.png": {
     "image/png": "[encoded data removed]"
    },
    "image-3.png": {
     "image/png": "[encoded data removed]"
    },
    "image-4.png": {
     "image/png": "[encoded data removed]"
    },
    "image.png": {
     "image/png": "[encoded data removed]"
    }
   },
   "cell_type": "markdown",
   "id": "69555d79",
   "metadata": {},
   "source": [
    "**Logistic Regression**\n",
    "\n",
    "![image.png](attachment:image.png)\n",
    "\n",
    "![image-2.png](attachment:image-2.png)\n",
    "\n",
    "![image-3.png](attachment:image-3.png)\n",
    "\n",
    "![image-4.png](attachment:image-4.png)"
   ]
  },
  {
   "cell_type": "code",
   "execution_count": 106,
   "id": "bc8b1565",
   "metadata": {},
   "outputs": [],
   "source": [
    "x_train,x_test,y_train,y_test = train_test_split(df,target,random_state=66,test_size=0.33)"
   ]
  },
  {
   "cell_type": "code",
   "execution_count": 127,
   "id": "7383f69a",
   "metadata": {},
   "outputs": [],
   "source": [
    "y_train = y_train.to_numpy()[:,None]\n",
    "y_test = y_test.to_numpy()[:,None]"
   ]
  },
  {
   "cell_type": "code",
   "execution_count": 108,
   "id": "7c734577",
   "metadata": {},
   "outputs": [],
   "source": [
    "def sgmd(k):\n",
    "        return 1 / (1 + np.exp(-k))"
   ]
  },
  {
   "cell_type": "code",
   "execution_count": 171,
   "id": "b0379508",
   "metadata": {},
   "outputs": [],
   "source": [
    "m,p = x_train.shape\n",
    "\n",
    "w =np.zeros((p, 1))\n",
    "bias = 0\n",
    "lr = 0.1\n",
    "costs = []\n",
    "\n",
    "for i in range(100):\n",
    "    \n",
    "    y_predict = sgmd( x_train @ w + bias)\n",
    "    cost = (- 1 / m) * np.sum(y_train * np.log(y_predict) + (1 - y_train) * (np.log(1 - y_predict)))\n",
    "    costs.append(cost)\n",
    "    \n",
    "    dw = (1 / m) * np.dot(x_train.T, (y_predict - y_train))\n",
    "    db = (1 / m) * np.sum(y_predict - y_train)\n",
    "    \n",
    "    w = w - lr*dw\n",
    "    b = b - lr*db\n",
    "    "
   ]
  },
  {
   "cell_type": "code",
   "execution_count": 172,
   "id": "36d21c9f",
   "metadata": {},
   "outputs": [
    {
     "data": {
      "text/plain": [
       "[<matplotlib.lines.Line2D at 0x7f7ec1b25130>]"
      ]
     },
     "execution_count": 172,
     "metadata": {},
     "output_type": "execute_result"
    },
    {
     "data": {
      "image/png": "[encoded data removed]",
      "text/plain": [
       "<Figure size 432x288 with 1 Axes>"
      ]
     },
     "metadata": {
      "needs_background": "light"
     },
     "output_type": "display_data"
    }
   ],
   "source": [
    "plt.plot(np.arange(100),costs)"
   ]
  },
  {
   "cell_type": "code",
   "execution_count": 164,
   "id": "219edf77",
   "metadata": {},
   "outputs": [
    {
     "data": {
      "text/plain": [
       "-26"
      ]
     },
     "execution_count": 164,
     "metadata": {},
     "output_type": "execute_result"
    }
   ],
   "source": [
    "y_predict = sgmd(x_test @ w + bias)\n",
    "y_predict = np.where(y_predict>0.5,1,0)\n",
    "np.sum(y_predict-y_test)"
   ]
  },
  {
   "cell_type": "code",
   "execution_count": null,
   "id": "b55d991f",
   "metadata": {},
   "outputs": [],
   "source": []
  },
  {
   "cell_type": "code",
   "execution_count": null,
   "id": "c865caa8",
   "metadata": {},
   "outputs": [],
   "source": []
  },
  {
   "cell_type": "code",
   "execution_count": null,
   "id": "4b7cdae2",
   "metadata": {},
   "outputs": [],
   "source": []
  },
  {
   "cell_type": "code",
   "execution_count": null,
   "id": "43dd6425",
   "metadata": {},
   "outputs": [],
   "source": []
  },
  {
   "cell_type": "code",
   "execution_count": null,
   "id": "b0dc31f8",
   "metadata": {},
   "outputs": [],
   "source": []
  },
  {
   "cell_type": "code",
   "execution_count": null,
   "id": "ee0125ae",
   "metadata": {},
   "outputs": [],
   "source": []
  },
  {
   "cell_type": "code",
   "execution_count": null,
   "id": "455c2446",
   "metadata": {},
   "outputs": [],
   "source": []
  },
  {
   "cell_type": "code",
   "execution_count": null,
   "id": "8570f71e",
   "metadata": {},
   "outputs": [],
   "source": []
  },
  {
   "cell_type": "code",
   "execution_count": null,
   "id": "c10c2a23",
   "metadata": {},
   "outputs": [],
   "source": []
  },
  {
   "cell_type": "code",
   "execution_count": null,
   "id": "0742d6fb",
   "metadata": {},
   "outputs": [],
   "source": []
  },
  {
   "cell_type": "code",
   "execution_count": null,
   "id": "aa98c31f",
   "metadata": {},
   "outputs": [],
   "source": []
  },
  {
   "cell_type": "code",
   "execution_count": null,
   "id": "c56b4d8e",
   "metadata": {},
   "outputs": [],
   "source": []
  },
  {
   "cell_type": "code",
   "execution_count": null,
   "id": "b9209c6f",
   "metadata": {},
   "outputs": [],
   "source": []
  },
  {
   "cell_type": "code",
   "execution_count": null,
   "id": "a9b67eee",
   "metadata": {},
   "outputs": [],
   "source": []
  },
  {
   "cell_type": "code",
   "execution_count": null,
   "id": "bb358e52",
   "metadata": {},
   "outputs": [],
   "source": []
  },
  {
   "cell_type": "code",
   "execution_count": null,
   "id": "28ab1960",
   "metadata": {},
   "outputs": [],
   "source": []
  }
 ],
 "metadata": {
  "kernelspec": {
   "display_name": "Python 3 (ipykernel)",
   "language": "python",
   "name": "python3"
  },
  "language_info": {
   "codemirror_mode": {
    "name": "ipython",
    "version": 3
   },
   "file_extension": ".py",
   "mimetype": "text/x-python",
   "name": "python",
   "nbconvert_exporter": "python",
   "pygments_lexer": "ipython3",
   "version": "3.8.10"
  }
 },
 "nbformat": 4,
 "nbformat_minor": 5
}
