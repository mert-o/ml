{
 "cells": [
  {
   "cell_type": "code",
   "execution_count": 2,
   "id": "f4a1f04d",
   "metadata": {},
   "outputs": [],
   "source": [
    "import pandas as pd\n",
    "import seaborn as sns\n",
    "import matplotlib.pyplot as plt\n",
    "import numpy as np\n",
    "%matplotlib inline\n",
    "pd.pandas.set_option('display.max_column',None)"
   ]
  },
  {
   "cell_type": "code",
   "execution_count": 5,
   "id": "222f6675",
   "metadata": {},
   "outputs": [
    {
     "data": {
      "text/html": [
       "<div>\n",
       "<style scoped>\n",
       "    .dataframe tbody tr th:only-of-type {\n",
       "        vertical-align: middle;\n",
       "    }\n",
       "\n",
       "    .dataframe tbody tr th {\n",
       "        vertical-align: top;\n",
       "    }\n",
       "\n",
       "    .dataframe thead th {\n",
       "        text-align: right;\n",
       "    }\n",
       "</style>\n",
       "<table border=\"1\" class=\"dataframe\">\n",
       "  <thead>\n",
       "    <tr style=\"text-align: right;\">\n",
       "      <th></th>\n",
       "      <th>Unnamed: 0</th>\n",
       "      <th>symboling</th>\n",
       "      <th>normalized-losses</th>\n",
       "      <th>make</th>\n",
       "      <th>aspiration</th>\n",
       "      <th>num-of-doors</th>\n",
       "      <th>body-style</th>\n",
       "      <th>drive-wheels</th>\n",
       "      <th>engine-location</th>\n",
       "      <th>wheel-base</th>\n",
       "      <th>length</th>\n",
       "      <th>width</th>\n",
       "      <th>height</th>\n",
       "      <th>curb-weight</th>\n",
       "      <th>engine-type</th>\n",
       "      <th>num-of-cylinders</th>\n",
       "      <th>engine-size</th>\n",
       "      <th>fuel-system</th>\n",
       "      <th>bore</th>\n",
       "      <th>stroke</th>\n",
       "      <th>compression-ratio</th>\n",
       "      <th>horsepower</th>\n",
       "      <th>peak-rpm</th>\n",
       "      <th>city-mpg</th>\n",
       "      <th>highway-mpg</th>\n",
       "      <th>price</th>\n",
       "      <th>city-L/100km</th>\n",
       "      <th>horsepower-binned</th>\n",
       "      <th>fuel-type-diesel</th>\n",
       "      <th>fuel-type-gas</th>\n",
       "    </tr>\n",
       "  </thead>\n",
       "  <tbody>\n",
       "    <tr>\n",
       "      <th>0</th>\n",
       "      <td>0</td>\n",
       "      <td>3</td>\n",
       "      <td>122</td>\n",
       "      <td>alfa-romero</td>\n",
       "      <td>std</td>\n",
       "      <td>two</td>\n",
       "      <td>convertible</td>\n",
       "      <td>rwd</td>\n",
       "      <td>front</td>\n",
       "      <td>88.6</td>\n",
       "      <td>0.811148</td>\n",
       "      <td>0.890278</td>\n",
       "      <td>48.8</td>\n",
       "      <td>2548</td>\n",
       "      <td>dohc</td>\n",
       "      <td>four</td>\n",
       "      <td>130</td>\n",
       "      <td>mpfi</td>\n",
       "      <td>3.47</td>\n",
       "      <td>2.68</td>\n",
       "      <td>9.0</td>\n",
       "      <td>111</td>\n",
       "      <td>5000.0</td>\n",
       "      <td>21</td>\n",
       "      <td>27</td>\n",
       "      <td>13495.0</td>\n",
       "      <td>11.190476</td>\n",
       "      <td>Low</td>\n",
       "      <td>0</td>\n",
       "      <td>1</td>\n",
       "    </tr>\n",
       "    <tr>\n",
       "      <th>1</th>\n",
       "      <td>1</td>\n",
       "      <td>3</td>\n",
       "      <td>122</td>\n",
       "      <td>alfa-romero</td>\n",
       "      <td>std</td>\n",
       "      <td>two</td>\n",
       "      <td>convertible</td>\n",
       "      <td>rwd</td>\n",
       "      <td>front</td>\n",
       "      <td>88.6</td>\n",
       "      <td>0.811148</td>\n",
       "      <td>0.890278</td>\n",
       "      <td>48.8</td>\n",
       "      <td>2548</td>\n",
       "      <td>dohc</td>\n",
       "      <td>four</td>\n",
       "      <td>130</td>\n",
       "      <td>mpfi</td>\n",
       "      <td>3.47</td>\n",
       "      <td>2.68</td>\n",
       "      <td>9.0</td>\n",
       "      <td>111</td>\n",
       "      <td>5000.0</td>\n",
       "      <td>21</td>\n",
       "      <td>27</td>\n",
       "      <td>16500.0</td>\n",
       "      <td>11.190476</td>\n",
       "      <td>Low</td>\n",
       "      <td>0</td>\n",
       "      <td>1</td>\n",
       "    </tr>\n",
       "    <tr>\n",
       "      <th>2</th>\n",
       "      <td>2</td>\n",
       "      <td>1</td>\n",
       "      <td>122</td>\n",
       "      <td>alfa-romero</td>\n",
       "      <td>std</td>\n",
       "      <td>two</td>\n",
       "      <td>hatchback</td>\n",
       "      <td>rwd</td>\n",
       "      <td>front</td>\n",
       "      <td>94.5</td>\n",
       "      <td>0.822681</td>\n",
       "      <td>0.909722</td>\n",
       "      <td>52.4</td>\n",
       "      <td>2823</td>\n",
       "      <td>ohcv</td>\n",
       "      <td>six</td>\n",
       "      <td>152</td>\n",
       "      <td>mpfi</td>\n",
       "      <td>2.68</td>\n",
       "      <td>3.47</td>\n",
       "      <td>9.0</td>\n",
       "      <td>154</td>\n",
       "      <td>5000.0</td>\n",
       "      <td>19</td>\n",
       "      <td>26</td>\n",
       "      <td>16500.0</td>\n",
       "      <td>12.368421</td>\n",
       "      <td>Medium</td>\n",
       "      <td>0</td>\n",
       "      <td>1</td>\n",
       "    </tr>\n",
       "    <tr>\n",
       "      <th>3</th>\n",
       "      <td>3</td>\n",
       "      <td>2</td>\n",
       "      <td>164</td>\n",
       "      <td>audi</td>\n",
       "      <td>std</td>\n",
       "      <td>four</td>\n",
       "      <td>sedan</td>\n",
       "      <td>fwd</td>\n",
       "      <td>front</td>\n",
       "      <td>99.8</td>\n",
       "      <td>0.848630</td>\n",
       "      <td>0.919444</td>\n",
       "      <td>54.3</td>\n",
       "      <td>2337</td>\n",
       "      <td>ohc</td>\n",
       "      <td>four</td>\n",
       "      <td>109</td>\n",
       "      <td>mpfi</td>\n",
       "      <td>3.19</td>\n",
       "      <td>3.40</td>\n",
       "      <td>10.0</td>\n",
       "      <td>102</td>\n",
       "      <td>5500.0</td>\n",
       "      <td>24</td>\n",
       "      <td>30</td>\n",
       "      <td>13950.0</td>\n",
       "      <td>9.791667</td>\n",
       "      <td>Low</td>\n",
       "      <td>0</td>\n",
       "      <td>1</td>\n",
       "    </tr>\n",
       "    <tr>\n",
       "      <th>4</th>\n",
       "      <td>4</td>\n",
       "      <td>2</td>\n",
       "      <td>164</td>\n",
       "      <td>audi</td>\n",
       "      <td>std</td>\n",
       "      <td>four</td>\n",
       "      <td>sedan</td>\n",
       "      <td>4wd</td>\n",
       "      <td>front</td>\n",
       "      <td>99.4</td>\n",
       "      <td>0.848630</td>\n",
       "      <td>0.922222</td>\n",
       "      <td>54.3</td>\n",
       "      <td>2824</td>\n",
       "      <td>ohc</td>\n",
       "      <td>five</td>\n",
       "      <td>136</td>\n",
       "      <td>mpfi</td>\n",
       "      <td>3.19</td>\n",
       "      <td>3.40</td>\n",
       "      <td>8.0</td>\n",
       "      <td>115</td>\n",
       "      <td>5500.0</td>\n",
       "      <td>18</td>\n",
       "      <td>22</td>\n",
       "      <td>17450.0</td>\n",
       "      <td>13.055556</td>\n",
       "      <td>Low</td>\n",
       "      <td>0</td>\n",
       "      <td>1</td>\n",
       "    </tr>\n",
       "  </tbody>\n",
       "</table>\n",
       "</div>"
      ],
      "text/plain": [
       "   Unnamed: 0  symboling  normalized-losses         make aspiration  \\\n",
       "0           0          3                122  alfa-romero        std   \n",
       "1           1          3                122  alfa-romero        std   \n",
       "2           2          1                122  alfa-romero        std   \n",
       "3           3          2                164         audi        std   \n",
       "4           4          2                164         audi        std   \n",
       "\n",
       "  num-of-doors   body-style drive-wheels engine-location  wheel-base  \\\n",
       "0          two  convertible          rwd           front        88.6   \n",
       "1          two  convertible          rwd           front        88.6   \n",
       "2          two    hatchback          rwd           front        94.5   \n",
       "3         four        sedan          fwd           front        99.8   \n",
       "4         four        sedan          4wd           front        99.4   \n",
       "\n",
       "     length     width  height  curb-weight engine-type num-of-cylinders  \\\n",
       "0  0.811148  0.890278    48.8         2548        dohc             four   \n",
       "1  0.811148  0.890278    48.8         2548        dohc             four   \n",
       "2  0.822681  0.909722    52.4         2823        ohcv              six   \n",
       "3  0.848630  0.919444    54.3         2337         ohc             four   \n",
       "4  0.848630  0.922222    54.3         2824         ohc             five   \n",
       "\n",
       "   engine-size fuel-system  bore  stroke  compression-ratio  horsepower  \\\n",
       "0          130        mpfi  3.47    2.68                9.0         111   \n",
       "1          130        mpfi  3.47    2.68                9.0         111   \n",
       "2          152        mpfi  2.68    3.47                9.0         154   \n",
       "3          109        mpfi  3.19    3.40               10.0         102   \n",
       "4          136        mpfi  3.19    3.40                8.0         115   \n",
       "\n",
       "   peak-rpm  city-mpg  highway-mpg    price  city-L/100km horsepower-binned  \\\n",
       "0    5000.0        21           27  13495.0     11.190476               Low   \n",
       "1    5000.0        21           27  16500.0     11.190476               Low   \n",
       "2    5000.0        19           26  16500.0     12.368421            Medium   \n",
       "3    5500.0        24           30  13950.0      9.791667               Low   \n",
       "4    5500.0        18           22  17450.0     13.055556               Low   \n",
       "\n",
       "   fuel-type-diesel  fuel-type-gas  \n",
       "0                 0              1  \n",
       "1                 0              1  \n",
       "2                 0              1  \n",
       "3                 0              1  \n",
       "4                 0              1  "
      ]
     },
     "execution_count": 5,
     "metadata": {},
     "output_type": "execute_result"
    }
   ],
   "source": [
    "df = pd.read_csv('clean_df.csv')\n",
    "df.head()\n"
   ]
  },
  {
   "cell_type": "markdown",
   "id": "06e30968",
   "metadata": {},
   "source": [
    "**Categorical Variables**"
   ]
  },
  {
   "cell_type": "markdown",
   "id": "7ac3980d",
   "metadata": {},
   "source": [
    "Creating dummy variables\n",
    "\n",
    "To prevent Dummy Variable Trap, multi-collinearity, create one less dummy variables from the number of categories in the variable. The remaning category will be respesented when the rest is 0.\n"
   ]
  },
  {
   "cell_type": "code",
   "execution_count": 16,
   "id": "8f81dcf6",
   "metadata": {},
   "outputs": [
    {
     "data": {
      "text/plain": [
       "array(['convertible', 'hatchback', 'sedan', 'wagon', 'hardtop'],\n",
       "      dtype=object)"
      ]
     },
     "execution_count": 16,
     "metadata": {},
     "output_type": "execute_result"
    }
   ],
   "source": [
    "df['body-style'].unique()"
   ]
  },
  {
   "cell_type": "code",
   "execution_count": 15,
   "id": "880d0069",
   "metadata": {
    "scrolled": false
   },
   "outputs": [
    {
     "data": {
      "text/html": [
       "<div>\n",
       "<style scoped>\n",
       "    .dataframe tbody tr th:only-of-type {\n",
       "        vertical-align: middle;\n",
       "    }\n",
       "\n",
       "    .dataframe tbody tr th {\n",
       "        vertical-align: top;\n",
       "    }\n",
       "\n",
       "    .dataframe thead th {\n",
       "        text-align: right;\n",
       "    }\n",
       "</style>\n",
       "<table border=\"1\" class=\"dataframe\">\n",
       "  <thead>\n",
       "    <tr style=\"text-align: right;\">\n",
       "      <th></th>\n",
       "      <th>hardtop</th>\n",
       "      <th>hatchback</th>\n",
       "      <th>sedan</th>\n",
       "      <th>wagon</th>\n",
       "    </tr>\n",
       "  </thead>\n",
       "  <tbody>\n",
       "    <tr>\n",
       "      <th>0</th>\n",
       "      <td>0</td>\n",
       "      <td>0</td>\n",
       "      <td>0</td>\n",
       "      <td>0</td>\n",
       "    </tr>\n",
       "    <tr>\n",
       "      <th>1</th>\n",
       "      <td>0</td>\n",
       "      <td>0</td>\n",
       "      <td>0</td>\n",
       "      <td>0</td>\n",
       "    </tr>\n",
       "    <tr>\n",
       "      <th>2</th>\n",
       "      <td>0</td>\n",
       "      <td>1</td>\n",
       "      <td>0</td>\n",
       "      <td>0</td>\n",
       "    </tr>\n",
       "    <tr>\n",
       "      <th>3</th>\n",
       "      <td>0</td>\n",
       "      <td>0</td>\n",
       "      <td>1</td>\n",
       "      <td>0</td>\n",
       "    </tr>\n",
       "    <tr>\n",
       "      <th>4</th>\n",
       "      <td>0</td>\n",
       "      <td>0</td>\n",
       "      <td>1</td>\n",
       "      <td>0</td>\n",
       "    </tr>\n",
       "    <tr>\n",
       "      <th>...</th>\n",
       "      <td>...</td>\n",
       "      <td>...</td>\n",
       "      <td>...</td>\n",
       "      <td>...</td>\n",
       "    </tr>\n",
       "    <tr>\n",
       "      <th>196</th>\n",
       "      <td>0</td>\n",
       "      <td>0</td>\n",
       "      <td>1</td>\n",
       "      <td>0</td>\n",
       "    </tr>\n",
       "    <tr>\n",
       "      <th>197</th>\n",
       "      <td>0</td>\n",
       "      <td>0</td>\n",
       "      <td>1</td>\n",
       "      <td>0</td>\n",
       "    </tr>\n",
       "    <tr>\n",
       "      <th>198</th>\n",
       "      <td>0</td>\n",
       "      <td>0</td>\n",
       "      <td>1</td>\n",
       "      <td>0</td>\n",
       "    </tr>\n",
       "    <tr>\n",
       "      <th>199</th>\n",
       "      <td>0</td>\n",
       "      <td>0</td>\n",
       "      <td>1</td>\n",
       "      <td>0</td>\n",
       "    </tr>\n",
       "    <tr>\n",
       "      <th>200</th>\n",
       "      <td>0</td>\n",
       "      <td>0</td>\n",
       "      <td>1</td>\n",
       "      <td>0</td>\n",
       "    </tr>\n",
       "  </tbody>\n",
       "</table>\n",
       "<p>201 rows × 4 columns</p>\n",
       "</div>"
      ],
      "text/plain": [
       "     hardtop  hatchback  sedan  wagon\n",
       "0          0          0      0      0\n",
       "1          0          0      0      0\n",
       "2          0          1      0      0\n",
       "3          0          0      1      0\n",
       "4          0          0      1      0\n",
       "..       ...        ...    ...    ...\n",
       "196        0          0      1      0\n",
       "197        0          0      1      0\n",
       "198        0          0      1      0\n",
       "199        0          0      1      0\n",
       "200        0          0      1      0\n",
       "\n",
       "[201 rows x 4 columns]"
      ]
     },
     "execution_count": 15,
     "metadata": {},
     "output_type": "execute_result"
    }
   ],
   "source": [
    "#Without drop_first, get_dummies() will create for all categories.\n",
    "dummy = pd.get_dummies(df['body-style'],drop_first=True)\n",
    "dummy"
   ]
  },
  {
   "cell_type": "markdown",
   "id": "4c95624a",
   "metadata": {},
   "source": [
    "Some categorical variables can occur too rare and while sampling this category can have all zeros, zero-variance predictor. This can cause a problem so, remove the category or combine it with the others.(hashing is one option)"
   ]
  },
  {
   "cell_type": "code",
   "execution_count": 17,
   "id": "4e4b1ab3",
   "metadata": {},
   "outputs": [
    {
     "data": {
      "text/plain": [
       "hardtop  hatchback  sedan  wagon\n",
       "0        0          1      0        94\n",
       "         1          0      0        68\n",
       "         0          0      1        25\n",
       "1        0          0      0         8\n",
       "0        0          0      0         6\n",
       "dtype: int64"
      ]
     },
     "execution_count": 17,
     "metadata": {},
     "output_type": "execute_result"
    }
   ],
   "source": [
    "dummy.value_counts()"
   ]
  },
  {
   "cell_type": "code",
   "execution_count": 24,
   "id": "a5271852",
   "metadata": {},
   "outputs": [
    {
     "data": {
      "text/plain": [
       "23.375"
      ]
     },
     "execution_count": 24,
     "metadata": {},
     "output_type": "execute_result"
    }
   ],
   "source": [
    "#To discard a category we can determine a threshold\n",
    "#There are 8 hardtoped cars and the ratio is:\n",
    "(dummy.values.sum()-8)/8\n",
    "#Usally, cutoff around 19 is enough."
   ]
  },
  {
   "cell_type": "markdown",
   "id": "086d8716",
   "metadata": {},
   "source": [
    "For ordered categorical data, incremental encoding can be used"
   ]
  },
  {
   "cell_type": "code",
   "execution_count": 29,
   "id": "cb280501",
   "metadata": {},
   "outputs": [
    {
     "data": {
      "text/plain": [
       "0       Low\n",
       "1       Low\n",
       "2    Medium\n",
       "3       Low\n",
       "4       Low\n",
       "Name: horsepower-binned, dtype: object"
      ]
     },
     "execution_count": 29,
     "metadata": {},
     "output_type": "execute_result"
    }
   ],
   "source": [
    "df['horsepower-binned'].head()"
   ]
  },
  {
   "cell_type": "code",
   "execution_count": 30,
   "id": "82406fd9",
   "metadata": {},
   "outputs": [
    {
     "data": {
      "text/plain": [
       "array(['Low', 'Medium', 'High'], dtype=object)"
      ]
     },
     "execution_count": 30,
     "metadata": {},
     "output_type": "execute_result"
    }
   ],
   "source": [
    "df['horsepower-binned'].unique()"
   ]
  },
  {
   "cell_type": "code",
   "execution_count": 31,
   "id": "db6a58bf",
   "metadata": {},
   "outputs": [
    {
     "data": {
      "text/plain": [
       "0      1\n",
       "1      1\n",
       "2      2\n",
       "3      1\n",
       "4      1\n",
       "      ..\n",
       "196    1\n",
       "197    2\n",
       "198    2\n",
       "199    1\n",
       "200    1\n",
       "Name: horsepower-binned, Length: 201, dtype: int64"
      ]
     },
     "execution_count": 31,
     "metadata": {},
     "output_type": "execute_result"
    }
   ],
   "source": [
    "mapping = {'Low':1,'Medium':2,'High':3}\n",
    "df['horsepower-binned'].map(mapping)"
   ]
  },
  {
   "cell_type": "markdown",
   "id": "417c48c4",
   "metadata": {},
   "source": [
    "**Numerical Variables**"
   ]
  },
  {
   "cell_type": "markdown",
   "id": "00a679fb",
   "metadata": {},
   "source": [
    "Continuous variables are subject to potential issues in some models.\n",
    "\n",
    "Models that construct relationships between the predictors and the response that are\n",
    "based on the rank of the predictor values rather than the actual value, like trees, are\n",
    "immune to predictor distributions that are skewed or to individual samples that have unusual values (i.e., outliers).\n",
    "\n",
    "Other models such as K -nearest neighbors and support vector machines are much more sensitive to predictors with skewed distributions or outliers.\n",
    "\n",
    "Continuous predictors that are highly correlated with each other is another\n",
    "regularly occurring scenario that presents a problem for some models. While partial least squares method is built to over come this issue, linear regression and neural networks are adversely affacted\n",
    "\n",
    "Commonly occuring problems with continuous variables:\n",
    "1- Be on vastly different scales: \n",
    "2- Skewed distribution \n",
    "3- Outliers\n",
    "4- Censored data\n",
    "5- Can be a good predictive but also very complex. So hard to represent in a model\n",
    "6- Can contain relevant and redundant information at the same time.\n",
    "\n",
    "Binning can also be used to simplify the data.\n",
    "\n",
    "Box-Cox Transofrmation -> for positive data\n",
    "Power Transfrom (Yeo and Johnson) -> no need to be positive\n",
    "Log Transformation\n",
    "Logit Transform -> for variables in range of 0 and 1\n",
    "Arcsine Transformation -> logit alternative\n",
    "Standardization -> scaling\n",
    "Min-Max scaling -> scaling"
   ]
  },
  {
   "cell_type": "code",
   "execution_count": 43,
   "id": "226902db",
   "metadata": {
    "scrolled": false
   },
   "outputs": [
    {
     "data": {
      "text/plain": [
       "(array([44., 45., 48., 24., 14., 16.,  5.,  4.,  0.,  1.]),\n",
       " array([ 48. ,  69.4,  90.8, 112.2, 133.6, 155. , 176.4, 197.8, 219.2,\n",
       "        240.6, 262. ]),\n",
       " <BarContainer object of 10 artists>)"
      ]
     },
     "execution_count": 43,
     "metadata": {},
     "output_type": "execute_result"
    },
    {
     "data": {
      "image/png": "[encoded data removed]",
      "text/plain": [
       "<Figure size 432x288 with 1 Axes>"
      ]
     },
     "metadata": {
      "needs_background": "light"
     },
     "output_type": "display_data"
    }
   ],
   "source": [
    "#log transofrmation\n",
    "plt.hist(df['horsepower'])"
   ]
  },
  {
   "cell_type": "code",
   "execution_count": 56,
   "id": "0264d1cf",
   "metadata": {},
   "outputs": [
    {
     "data": {
      "text/plain": [
       "(array([ 6.,  9., 48., 32., 42., 24., 18., 17.,  4.,  1.]),\n",
       " array([3.87120101, 4.04091536, 4.21062971, 4.38034406, 4.55005841,\n",
       "        4.71977276, 4.88948711, 5.05920146, 5.22891581, 5.39863015,\n",
       "        5.5683445 ]),\n",
       " <BarContainer object of 10 artists>)"
      ]
     },
     "execution_count": 56,
     "metadata": {},
     "output_type": "execute_result"
    },
    {
     "data": {
      "image/png": "[encoded data removed]",
      "text/plain": [
       "<Figure size 432x288 with 1 Axes>"
      ]
     },
     "metadata": {
      "needs_background": "light"
     },
     "output_type": "display_data"
    }
   ],
   "source": [
    "a = df['horsepower']\n",
    "a= np.log(a)\n",
    "plt.hist(a)"
   ]
  },
  {
   "cell_type": "code",
   "execution_count": 57,
   "id": "bd757b5e",
   "metadata": {},
   "outputs": [
    {
     "name": "stdout",
     "output_type": "stream",
     "text": [
      "2.562902902617277e-15\n",
      "1.0\n"
     ]
    },
    {
     "data": {
      "text/plain": [
       "(array([ 6.,  9., 48., 32., 42., 24., 18., 17.,  4.,  1.]),\n",
       " array([-2.10806666, -1.60348769, -1.09890872, -0.59432974, -0.08975077,\n",
       "         0.4148282 ,  0.91940717,  1.42398614,  1.92856511,  2.43314408,\n",
       "         2.93772306]),\n",
       " <BarContainer object of 10 artists>)"
      ]
     },
     "execution_count": 57,
     "metadata": {},
     "output_type": "execute_result"
    },
    {
     "data": {
      "image/png": "[encoded data removed]",
      "text/plain": [
       "<Figure size 432x288 with 1 Axes>"
      ]
     },
     "metadata": {
      "needs_background": "light"
     },
     "output_type": "display_data"
    }
   ],
   "source": [
    "#Standardization\n",
    "b = (a-a.mean())/a.std()\n",
    "print(b.mean())\n",
    "print(b.std())\n",
    "plt.hist(b)"
   ]
  },
  {
   "cell_type": "code",
   "execution_count": 59,
   "id": "701c579c",
   "metadata": {},
   "outputs": [
    {
     "data": {
      "text/plain": [
       "(array([ 6.,  9., 48., 32., 42., 24., 18., 17.,  4.,  1.]),\n",
       " array([0. , 0.1, 0.2, 0.3, 0.4, 0.5, 0.6, 0.7, 0.8, 0.9, 1. ]),\n",
       " <BarContainer object of 10 artists>)"
      ]
     },
     "execution_count": 59,
     "metadata": {},
     "output_type": "execute_result"
    },
    {
     "data": {
      "image/png": "[encoded data removed]",
      "text/plain": [
       "<Figure size 432x288 with 1 Axes>"
      ]
     },
     "metadata": {
      "needs_background": "light"
     },
     "output_type": "display_data"
    }
   ],
   "source": [
    "#Min-Max scaling\n",
    "b = (a-min(a))/(max(a)-min(a))\n",
    "plt.hist(b)"
   ]
  },
  {
   "cell_type": "markdown",
   "id": "4a9944fb",
   "metadata": {},
   "source": [
    "**Many to many transformations** can help recting a variety of issues such as outliers or collinearity. They can also reduce the dimensionality of the predictor space.\n",
    "\n",
    "Dimension reduction is not feature selection!\n",
    "\n",
    "Methods: \n",
    "1- Principal component analysis (Unsupervised)\n",
    "2- kernel PCA (Unsupervised)\n",
    "3- Independent component analysis (Unsupervised)\n",
    "4- Non-negative matrix factorization (Unsupervised)\n",
    "5- Partial least squares (Supervised)\n"
   ]
  },
  {
   "cell_type": "markdown",
   "id": "4dbd9ebd",
   "metadata": {},
   "source": [
    "PCA\n",
    "\n",
    "Feauter scaling before application is important."
   ]
  },
  {
   "cell_type": "code",
   "execution_count": 69,
   "id": "13212c74",
   "metadata": {},
   "outputs": [],
   "source": [
    "from sklearn.decomposition import PCA"
   ]
  },
  {
   "cell_type": "code",
   "execution_count": 103,
   "id": "e46b3598",
   "metadata": {
    "scrolled": true
   },
   "outputs": [
    {
     "data": {
      "text/plain": [
       "(201, 17)"
      ]
     },
     "execution_count": 103,
     "metadata": {},
     "output_type": "execute_result"
    }
   ],
   "source": [
    "a = [f for f in df.columns if df[f].dtypes != 'object']\n",
    "num_data = df[a].copy()\n",
    "num_data.pop('Unnamed: 0')\n",
    "num_data.pop('symboling')\n",
    "num_data.pop('price')\n",
    "num_data = (num_data-num_data.mean())/num_data.std()\n",
    "num_data['stroke'] = num_data['stroke'].fillna(value=num_data['stroke'].mean())\n",
    "num_data.shape"
   ]
  },
  {
   "cell_type": "code",
   "execution_count": 104,
   "id": "a9e33b17",
   "metadata": {},
   "outputs": [],
   "source": [
    "#full pca\n",
    "pca = PCA(n_components=17).fit(num_data)"
   ]
  },
  {
   "cell_type": "code",
   "execution_count": 109,
   "id": "a357eef9",
   "metadata": {},
   "outputs": [
    {
     "data": {
      "text/plain": [
       "array([ 43.98817501,  68.39381231,  77.43627314,  82.74783069,\n",
       "        87.68170931,  91.46044237,  93.98098638,  95.8782399 ,\n",
       "        97.57843631,  98.26818943,  98.84747441,  99.26458516,\n",
       "        99.57707487,  99.84188435,  99.9355886 , 100.        ,\n",
       "       100.        ])"
      ]
     },
     "execution_count": 109,
     "metadata": {},
     "output_type": "execute_result"
    }
   ],
   "source": [
    "foo = pca.transform(num_data)\n",
    "np.cumsum(pca.explained_variance_ratio_*100)\n",
    "#First 8 principle component explains more than %95 of the varince in the data"
   ]
  },
  {
   "cell_type": "code",
   "execution_count": 110,
   "id": "22efbf8c",
   "metadata": {},
   "outputs": [
    {
     "data": {
      "text/plain": [
       "Text(0, 0.5, 'Variance')"
      ]
     },
     "execution_count": 110,
     "metadata": {},
     "output_type": "execute_result"
    },
    {
     "data": {
      "image/png": "[encoded data removed]",
      "text/plain": [
       "<Figure size 432x288 with 1 Axes>"
      ]
     },
     "metadata": {
      "needs_background": "light"
     },
     "output_type": "display_data"
    }
   ],
   "source": [
    "plt.plot(np.cumsum(pca.explained_variance_ratio_*100))\n",
    "plt.xlabel('#components')\n",
    "plt.ylabel('Variance')"
   ]
  },
  {
   "cell_type": "code",
   "execution_count": 111,
   "id": "0dc1ade9",
   "metadata": {},
   "outputs": [
    {
     "data": {
      "text/plain": [
       "array([43.98817501, 68.39381231, 77.43627314, 82.74783069, 87.68170931,\n",
       "       91.46044237, 93.98098638, 95.8782399 ])"
      ]
     },
     "execution_count": 111,
     "metadata": {},
     "output_type": "execute_result"
    }
   ],
   "source": [
    "pca = PCA(n_components=8).fit(num_data)\n",
    "np.cumsum(pca.explained_variance_ratio_*100)"
   ]
  },
  {
   "cell_type": "code",
   "execution_count": 112,
   "id": "804ac39c",
   "metadata": {},
   "outputs": [
    {
     "data": {
      "text/plain": [
       "array([[-0.43179943, -1.81835673,  0.52950382, ...,  0.55714685,\n",
       "         0.2219313 , -0.76899933],\n",
       "       [-0.43179943, -1.81835673,  0.52950382, ...,  0.55714685,\n",
       "         0.2219313 , -0.76899933],\n",
       "       [ 0.62384462, -1.28688644,  1.21325522, ...,  0.3759654 ,\n",
       "         2.22892827, -1.46830504],\n",
       "       ...,\n",
       "       [ 3.4871483 , -0.62452194, -1.52459597, ...,  0.85846812,\n",
       "         0.37380258,  0.76546364],\n",
       "       [ 1.90138374,  5.43603394,  1.04429314, ...,  1.33114182,\n",
       "         1.30669778, -0.45911249],\n",
       "       [ 3.13865165, -0.15531974, -1.49808457, ...,  0.53674065,\n",
       "        -0.80828351,  0.73953366]])"
      ]
     },
     "execution_count": 112,
     "metadata": {},
     "output_type": "execute_result"
    }
   ],
   "source": [
    "transformed_data = pca.transform(num_data)\n",
    "transformed_data"
   ]
  },
  {
   "cell_type": "code",
   "execution_count": 132,
   "id": "ded3e547",
   "metadata": {
    "scrolled": true
   },
   "outputs": [
    {
     "data": {
      "text/html": [
       "<div>\n",
       "<style scoped>\n",
       "    .dataframe tbody tr th:only-of-type {\n",
       "        vertical-align: middle;\n",
       "    }\n",
       "\n",
       "    .dataframe tbody tr th {\n",
       "        vertical-align: top;\n",
       "    }\n",
       "\n",
       "    .dataframe thead th {\n",
       "        text-align: right;\n",
       "    }\n",
       "</style>\n",
       "<table border=\"1\" class=\"dataframe\">\n",
       "  <thead>\n",
       "    <tr style=\"text-align: right;\">\n",
       "      <th></th>\n",
       "      <th>PC1</th>\n",
       "      <th>PC2</th>\n",
       "      <th>PC3</th>\n",
       "      <th>PC4</th>\n",
       "      <th>PC5</th>\n",
       "      <th>PC6</th>\n",
       "      <th>PC7</th>\n",
       "      <th>PC8</th>\n",
       "    </tr>\n",
       "  </thead>\n",
       "  <tbody>\n",
       "    <tr>\n",
       "      <th>0</th>\n",
       "      <td>-0.43</td>\n",
       "      <td>-1.82</td>\n",
       "      <td>0.53</td>\n",
       "      <td>2.56</td>\n",
       "      <td>-0.85</td>\n",
       "      <td>0.56</td>\n",
       "      <td>0.22</td>\n",
       "      <td>-0.77</td>\n",
       "    </tr>\n",
       "    <tr>\n",
       "      <th>1</th>\n",
       "      <td>-0.43</td>\n",
       "      <td>-1.82</td>\n",
       "      <td>0.53</td>\n",
       "      <td>2.56</td>\n",
       "      <td>-0.85</td>\n",
       "      <td>0.56</td>\n",
       "      <td>0.22</td>\n",
       "      <td>-0.77</td>\n",
       "    </tr>\n",
       "    <tr>\n",
       "      <th>2</th>\n",
       "      <td>0.62</td>\n",
       "      <td>-1.29</td>\n",
       "      <td>1.21</td>\n",
       "      <td>-0.93</td>\n",
       "      <td>-0.43</td>\n",
       "      <td>0.38</td>\n",
       "      <td>2.23</td>\n",
       "      <td>-1.47</td>\n",
       "    </tr>\n",
       "    <tr>\n",
       "      <th>3</th>\n",
       "      <td>-0.17</td>\n",
       "      <td>-0.66</td>\n",
       "      <td>0.65</td>\n",
       "      <td>-0.74</td>\n",
       "      <td>1.28</td>\n",
       "      <td>-0.48</td>\n",
       "      <td>-0.28</td>\n",
       "      <td>0.04</td>\n",
       "    </tr>\n",
       "    <tr>\n",
       "      <th>4</th>\n",
       "      <td>1.57</td>\n",
       "      <td>-1.48</td>\n",
       "      <td>0.85</td>\n",
       "      <td>-0.67</td>\n",
       "      <td>1.15</td>\n",
       "      <td>-0.10</td>\n",
       "      <td>0.09</td>\n",
       "      <td>-0.90</td>\n",
       "    </tr>\n",
       "    <tr>\n",
       "      <th>...</th>\n",
       "      <td>...</td>\n",
       "      <td>...</td>\n",
       "      <td>...</td>\n",
       "      <td>...</td>\n",
       "      <td>...</td>\n",
       "      <td>...</td>\n",
       "      <td>...</td>\n",
       "      <td>...</td>\n",
       "    </tr>\n",
       "    <tr>\n",
       "      <th>196</th>\n",
       "      <td>2.45</td>\n",
       "      <td>0.18</td>\n",
       "      <td>-1.58</td>\n",
       "      <td>-0.24</td>\n",
       "      <td>0.29</td>\n",
       "      <td>0.28</td>\n",
       "      <td>-0.82</td>\n",
       "      <td>1.41</td>\n",
       "    </tr>\n",
       "    <tr>\n",
       "      <th>197</th>\n",
       "      <td>3.50</td>\n",
       "      <td>-0.39</td>\n",
       "      <td>-1.36</td>\n",
       "      <td>-0.06</td>\n",
       "      <td>0.08</td>\n",
       "      <td>0.66</td>\n",
       "      <td>-0.58</td>\n",
       "      <td>0.84</td>\n",
       "    </tr>\n",
       "    <tr>\n",
       "      <th>198</th>\n",
       "      <td>3.49</td>\n",
       "      <td>-0.62</td>\n",
       "      <td>-1.52</td>\n",
       "      <td>0.23</td>\n",
       "      <td>0.69</td>\n",
       "      <td>0.86</td>\n",
       "      <td>0.37</td>\n",
       "      <td>0.77</td>\n",
       "    </tr>\n",
       "    <tr>\n",
       "      <th>199</th>\n",
       "      <td>1.90</td>\n",
       "      <td>5.44</td>\n",
       "      <td>1.04</td>\n",
       "      <td>-0.36</td>\n",
       "      <td>1.01</td>\n",
       "      <td>1.33</td>\n",
       "      <td>1.31</td>\n",
       "      <td>-0.46</td>\n",
       "    </tr>\n",
       "    <tr>\n",
       "      <th>200</th>\n",
       "      <td>3.14</td>\n",
       "      <td>-0.16</td>\n",
       "      <td>-1.50</td>\n",
       "      <td>-0.20</td>\n",
       "      <td>0.39</td>\n",
       "      <td>0.54</td>\n",
       "      <td>-0.81</td>\n",
       "      <td>0.74</td>\n",
       "    </tr>\n",
       "  </tbody>\n",
       "</table>\n",
       "<p>201 rows × 8 columns</p>\n",
       "</div>"
      ],
      "text/plain": [
       "      PC1   PC2   PC3   PC4   PC5   PC6   PC7   PC8\n",
       "0   -0.43 -1.82  0.53  2.56 -0.85  0.56  0.22 -0.77\n",
       "1   -0.43 -1.82  0.53  2.56 -0.85  0.56  0.22 -0.77\n",
       "2    0.62 -1.29  1.21 -0.93 -0.43  0.38  2.23 -1.47\n",
       "3   -0.17 -0.66  0.65 -0.74  1.28 -0.48 -0.28  0.04\n",
       "4    1.57 -1.48  0.85 -0.67  1.15 -0.10  0.09 -0.90\n",
       "..    ...   ...   ...   ...   ...   ...   ...   ...\n",
       "196  2.45  0.18 -1.58 -0.24  0.29  0.28 -0.82  1.41\n",
       "197  3.50 -0.39 -1.36 -0.06  0.08  0.66 -0.58  0.84\n",
       "198  3.49 -0.62 -1.52  0.23  0.69  0.86  0.37  0.77\n",
       "199  1.90  5.44  1.04 -0.36  1.01  1.33  1.31 -0.46\n",
       "200  3.14 -0.16 -1.50 -0.20  0.39  0.54 -0.81  0.74\n",
       "\n",
       "[201 rows x 8 columns]"
      ]
     },
     "execution_count": 132,
     "metadata": {},
     "output_type": "execute_result"
    }
   ],
   "source": [
    "columns = np.char.array(['PC']) + np.arange(1,9).astype('str')\n",
    "\n",
    "pd.DataFrame(transformed_data,columns=columns)"
   ]
  },
  {
   "cell_type": "markdown",
   "id": "c0ed5eda",
   "metadata": {},
   "source": [
    "**Missing Values**\n",
    "\n",
    "Some models can tolerate missing values.\n",
    "\n",
    "Encoding Categorical Variables: NaN -> 'Missing'\n",
    "\n",
    "    Should consider the effect of the predictor to the response.\n",
    "    \n",
    "Imputation:\n",
    "    \n",
    "    Depends on the data but if the pencent of missing value in a column is less than %20.\n",
    "    \n",
    "    Methods: \n",
    "        K-Nearest -> When data is small, sensitive to outliers\n",
    "        Trees\n",
    "        Linear Models\n",
    "        Mean/Median -> No uncertainty, not accounting the correlatin between variables.\n",
    "        Mode -> can introduce bias, not accounting the correlatin between variables.\n",
    "    \n",
    "    \n"
   ]
  },
  {
   "cell_type": "code",
   "execution_count": 133,
   "id": "7963b9d2",
   "metadata": {},
   "outputs": [],
   "source": [
    "from sklearn.impute import KNNImputer\n"
   ]
  },
  {
   "cell_type": "code",
   "execution_count": 136,
   "id": "da2488ed",
   "metadata": {},
   "outputs": [
    {
     "data": {
      "text/plain": [
       "Unnamed: 0           0\n",
       "symboling            0\n",
       "normalized-losses    0\n",
       "wheel-base           0\n",
       "length               0\n",
       "width                0\n",
       "height               0\n",
       "curb-weight          0\n",
       "engine-size          0\n",
       "bore                 0\n",
       "stroke               4\n",
       "compression-ratio    0\n",
       "horsepower           0\n",
       "peak-rpm             0\n",
       "city-mpg             0\n",
       "highway-mpg          0\n",
       "price                0\n",
       "city-L/100km         0\n",
       "fuel-type-diesel     0\n",
       "fuel-type-gas        0\n",
       "dtype: int64"
      ]
     },
     "execution_count": 136,
     "metadata": {},
     "output_type": "execute_result"
    }
   ],
   "source": [
    "a = [f for f in df.columns if df[f].dtypes != 'object']\n",
    "num_data = df[a].copy()\n",
    "num_data.isna().sum()"
   ]
  },
  {
   "cell_type": "code",
   "execution_count": 145,
   "id": "36d6b122",
   "metadata": {},
   "outputs": [],
   "source": [
    "imputer = KNNImputer(n_neighbors=5)\n",
    "foo = pd.DataFrame(imputer.fit_transform(num_data),columns = num_data.columns)"
   ]
  },
  {
   "cell_type": "code",
   "execution_count": 153,
   "id": "123aef9a",
   "metadata": {},
   "outputs": [
    {
     "data": {
      "text/plain": [
       "52   NaN\n",
       "53   NaN\n",
       "54   NaN\n",
       "55   NaN\n",
       "Name: stroke, dtype: float64"
      ]
     },
     "execution_count": 153,
     "metadata": {},
     "output_type": "execute_result"
    }
   ],
   "source": [
    "num_data[num_data['stroke'].isna()]['stroke']"
   ]
  },
  {
   "cell_type": "code",
   "execution_count": 154,
   "id": "e537bc0c",
   "metadata": {},
   "outputs": [
    {
     "data": {
      "text/plain": [
       "52   3.44\n",
       "53   3.30\n",
       "54   3.24\n",
       "55   2.90\n",
       "Name: stroke, dtype: float64"
      ]
     },
     "execution_count": 154,
     "metadata": {},
     "output_type": "execute_result"
    }
   ],
   "source": [
    "foo[num_data['stroke'].isna()]['stroke']"
   ]
  },
  {
   "cell_type": "code",
   "execution_count": null,
   "id": "434e7754",
   "metadata": {},
   "outputs": [],
   "source": []
  },
  {
   "cell_type": "code",
   "execution_count": null,
   "id": "8bddd3e0",
   "metadata": {},
   "outputs": [],
   "source": []
  },
  {
   "cell_type": "code",
   "execution_count": null,
   "id": "09ef7174",
   "metadata": {},
   "outputs": [],
   "source": []
  },
  {
   "cell_type": "code",
   "execution_count": null,
   "id": "15340ca3",
   "metadata": {},
   "outputs": [],
   "source": []
  },
  {
   "cell_type": "code",
   "execution_count": null,
   "id": "ba9c3b75",
   "metadata": {},
   "outputs": [],
   "source": []
  },
  {
   "cell_type": "code",
   "execution_count": null,
   "id": "ee434bee",
   "metadata": {},
   "outputs": [],
   "source": []
  },
  {
   "cell_type": "code",
   "execution_count": null,
   "id": "1d3bc8a0",
   "metadata": {},
   "outputs": [],
   "source": []
  },
  {
   "cell_type": "code",
   "execution_count": null,
   "id": "e532d254",
   "metadata": {},
   "outputs": [],
   "source": []
  },
  {
   "cell_type": "code",
   "execution_count": null,
   "id": "761c02af",
   "metadata": {},
   "outputs": [],
   "source": []
  }
 ],
 "metadata": {
  "kernelspec": {
   "display_name": "Python 3 (ipykernel)",
   "language": "python",
   "name": "python3"
  },
  "language_info": {
   "codemirror_mode": {
    "name": "ipython",
    "version": 3
   },
   "file_extension": ".py",
   "mimetype": "text/x-python",
   "name": "python",
   "nbconvert_exporter": "python",
   "pygments_lexer": "ipython3",
   "version": "3.8.10"
  }
 },
 "nbformat": 4,
 "nbformat_minor": 5
}
